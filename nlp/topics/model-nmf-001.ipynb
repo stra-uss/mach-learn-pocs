{
 "cells": [
  {
   "cell_type": "markdown",
   "metadata": {},
   "source": [
    "```python\n",
    "                       Project:  'Serpro - Bootcamp Apex'\n",
    " Authors:          \n",
    "        'Strauss'\n",
    "        'Danilo Freitas'\n",
    "        'Renato Monteiro'\n",
    " Advisor:\n",
    "        'Marcelo Pita'        \n",
    " Date: '02/12/2020 19:51:02'        \n",
    "```"
   ]
  },
  {
   "cell_type": "code",
   "execution_count": 175,
   "metadata": {},
   "outputs": [],
   "source": [
    "#bibliotecas padrão\n",
    "import pandas as pd\n",
    "import numpy as np\n",
    "import time\n",
    "import itertools #iteração/gráficos\n",
    "import re #expressao regular\n",
    "import string\n",
    "import pickle\n",
    "\n",
    "#conexão datalake\n",
    "from datalake_serpro import handler_dl \n",
    "import datalake_serpro\n",
    "\n",
    "#pacotes a parte do pandas/impala\n",
    "from pandas.api.types import is_numeric_dtype\n",
    "from pandas.api.types import is_string_dtype\n",
    "from impala.util import as_pandas \n",
    "\n",
    "#bibliotecas de visualização/gráficos\n",
    "import seaborn as sb\n",
    "import matplotlib.pyplot as plt\n",
    "import matplotlib\n",
    "\n",
    "#Libs para processamento de linguagem natural (NLP). Usamos para limpeza (spacy) e stop words (nltk) (libs muito grandes)\n",
    "import nltk\n",
    "import spacy\n",
    "from nltk.corpus import stopwords #para remover palavras irrelevantes, fornece uma lista em português\n",
    "#from nltk.tokenize import sent_tokenize #para analise de sentimento\n",
    "from nltk.tokenize import RegexpTokenizer #quebra frases em palavras\n",
    "from unicodedata import normalize\n",
    "\n",
    "#Vetorização de texto\n",
    "from sklearn.feature_extraction.text import CountVectorizer, TfidfVectorizer\n",
    "\n",
    "#LDA e NMF - Importa os algoritmos de modelagem de tópicos\n",
    "from sklearn.decomposition import LatentDirichletAllocation, NMF\n",
    "\n",
    "from sklearn.feature_selection import chi2\n",
    "\n",
    "import pyLDAvis\n",
    "import ipywidgets as widgets\n",
    "from ipywidgets import interact, interact_manual\n",
    "#import itables.interactive\n",
    "from IPython.core.display import HTML\n",
    "\n",
    "#Diminui o log de execução\n",
    "import warnings\n",
    "warnings.filterwarnings('ignore')"
   ]
  },
  {
   "cell_type": "markdown",
   "metadata": {},
   "source": [
    "#### 0) Configs"
   ]
  },
  {
   "cell_type": "code",
   "execution_count": 176,
   "metadata": {},
   "outputs": [],
   "source": [
    "conn = handler_dl()\n",
    "cursor = conn.cursor()\n",
    "db = 'cnpj_rfb'\n",
    "tb = 'apex_news' \n",
    "text = 'noticia_texto'\n",
    "tkn = RegexpTokenizer(r'\\w+') #\n",
    "textos_tokenizados = []\n",
    "random_state = 1214\n",
    "pth = '/home/07971910703/dataset/'"
   ]
  },
  {
   "cell_type": "markdown",
   "metadata": {},
   "source": [
    "#### 1) Functions"
   ]
  },
  {
   "cell_type": "code",
   "execution_count": 107,
   "metadata": {},
   "outputs": [],
   "source": [
    "def imprimir_top_palavras(modelo_topico, palavras, topn): #passa o modelo treinado\n",
    "    probabilidades =\\\n",
    "        modelo_topico.components_ / modelo_topico.components_.sum(axis=1)[:, np.newaxis]\n",
    "    for topico_idx, topico in enumerate(probabilidades):\n",
    "        top_palavras_idx = topico.argsort()[:-topn - 1:-1]\n",
    "        print(\"Tópico %d:\" % topico_idx)\n",
    "        for i in top_palavras_idx:\n",
    "            print(\"        \" + palavras[i] + \"   \" +\\\n",
    "                  str(round(topico[i], 6)))\n",
    "    print()"
   ]
  },
  {
   "cell_type": "code",
   "execution_count": 108,
   "metadata": {},
   "outputs": [],
   "source": [
    "def get_word_topics(model, words_set, topn):\n",
    "    topics = []\n",
    "    words  = []\n",
    "    scores = []\n",
    "    prob = model.components_ / model.components_.sum(axis=1)[:, np.newaxis]\n",
    "    for topic_idx, topic in enumerate(prob):\n",
    "        top_words_idx = topic.argsort()[:-topn - 1:-1]\n",
    "        for i in top_words_idx:\n",
    "            topics.append(topic_idx)\n",
    "            words.append(words_set[i])\n",
    "            scores.append(round(topic[i], 6))\n",
    "              \n",
    "    df = pd.DataFrame({'topico':topics, 'palavra':words, 'score': scores})\n",
    "    return df"
   ]
  },
  {
   "cell_type": "code",
   "execution_count": 109,
   "metadata": {},
   "outputs": [],
   "source": [
    "def clear_text(text):    \n",
    "    text = text.lower()\n",
    "    text = normalize('NFKD', text).encode('ASCII', 'ignore').decode('ASCII')\n",
    "    text = re.sub(r'[^a-zA-Z_]',' ',text)\n",
    "    tokens = tkn.tokenize(text)\n",
    "    tokens = [palavra for palavra in tokens if len(palavra) >= 3]      \n",
    "    text = ' '.join(tokens)      \n",
    "    return text"
   ]
  },
  {
   "cell_type": "code",
   "execution_count": 110,
   "metadata": {},
   "outputs": [],
   "source": [
    "def lemma_text(text):\n",
    "    sent = ''\n",
    "    doc  = nlp(text)    \n",
    "    for token in doc:\n",
    "        sent = sent + ' ' + str(token.lemma_)\n",
    "        #print(token.lemma_)\n",
    "    return sent"
   ]
  },
  {
   "cell_type": "code",
   "execution_count": 111,
   "metadata": {},
   "outputs": [],
   "source": [
    "def compute_text_size(text):\n",
    "    return len(text) "
   ]
  },
  {
   "cell_type": "code",
   "execution_count": 112,
   "metadata": {},
   "outputs": [],
   "source": [
    "def get_topic_name(topic):\n",
    "    topics = {0:'Government', \n",
    "              1:'Aerospace', \n",
    "              2:'Health', \n",
    "              3:'Agribusiness', \n",
    "              4:'Economy', \n",
    "              5:'Military'}\n",
    "              #6:'Infrastructured'}\n",
    "    return topics.get(topic)"
   ]
  },
  {
   "cell_type": "code",
   "execution_count": 113,
   "metadata": {},
   "outputs": [],
   "source": [
    "def sampling_n(group, k=1000):\n",
    "    if len(group) < k:\n",
    "        return group\n",
    "    return group.sample(k)"
   ]
  },
  {
   "cell_type": "markdown",
   "metadata": {},
   "source": [
    "#### 2) Load libraries"
   ]
  },
  {
   "cell_type": "code",
   "execution_count": 114,
   "metadata": {},
   "outputs": [],
   "source": [
    "nlp = spacy.load('pt_core_news_sm')"
   ]
  },
  {
   "cell_type": "markdown",
   "metadata": {},
   "source": [
    "#### 3) Data Access"
   ]
  },
  {
   "cell_type": "code",
   "execution_count": 177,
   "metadata": {},
   "outputs": [
    {
     "data": {
      "text/html": [
       "<div>\n",
       "<style scoped>\n",
       "    .dataframe tbody tr th:only-of-type {\n",
       "        vertical-align: middle;\n",
       "    }\n",
       "\n",
       "    .dataframe tbody tr th {\n",
       "        vertical-align: top;\n",
       "    }\n",
       "\n",
       "    .dataframe thead th {\n",
       "        text-align: right;\n",
       "    }\n",
       "</style>\n",
       "<table border=\"1\" class=\"dataframe\">\n",
       "  <thead>\n",
       "    <tr style=\"text-align: right;\">\n",
       "      <th></th>\n",
       "      <th>noticia_texto</th>\n",
       "      <th>fonte</th>\n",
       "    </tr>\n",
       "  </thead>\n",
       "  <tbody>\n",
       "    <tr>\n",
       "      <th>22820</th>\n",
       "      <td>Brasília, 24 de dezembro de 2018 – A participa...</td>\n",
       "      <td>anac</td>\n",
       "    </tr>\n",
       "    <tr>\n",
       "      <th>22821</th>\n",
       "      <td>Moreira Franco nega que autoridades imporão “t...</td>\n",
       "      <td>infraestrutura</td>\n",
       "    </tr>\n",
       "    <tr>\n",
       "      <th>22822</th>\n",
       "      <td>A Agência Nacional de Vigilância Sanitária (An...</td>\n",
       "      <td>anvisa</td>\n",
       "    </tr>\n",
       "    <tr>\n",
       "      <th>22823</th>\n",
       "      <td>Brasília (DF) – A Agência Nacional de Aviação ...</td>\n",
       "      <td>infraestrutura</td>\n",
       "    </tr>\n",
       "    <tr>\n",
       "      <th>22824</th>\n",
       "      <td>A Anvisa atualizou a lista das Denominações Co...</td>\n",
       "      <td>anvisa</td>\n",
       "    </tr>\n",
       "    <tr>\n",
       "      <th>22825</th>\n",
       "      <td>O Conselho Monetário Nacional editou, em 02 de...</td>\n",
       "      <td>agricultura</td>\n",
       "    </tr>\n",
       "  </tbody>\n",
       "</table>\n",
       "</div>"
      ],
      "text/plain": [
       "                                           noticia_texto           fonte\n",
       "22820  Brasília, 24 de dezembro de 2018 – A participa...            anac\n",
       "22821  Moreira Franco nega que autoridades imporão “t...  infraestrutura\n",
       "22822  A Agência Nacional de Vigilância Sanitária (An...          anvisa\n",
       "22823  Brasília (DF) – A Agência Nacional de Aviação ...  infraestrutura\n",
       "22824  A Anvisa atualizou a lista das Denominações Co...          anvisa\n",
       "22825  O Conselho Monetário Nacional editou, em 02 de...     agricultura"
      ]
     },
     "execution_count": 177,
     "metadata": {},
     "output_type": "execute_result"
    }
   ],
   "source": [
    "sql = ('select * from {0}.{1}'.format(db,tb))\n",
    "cursor.execute(sql)\n",
    "dfrw = as_pandas(cursor)\n",
    "dfrw.tail(6)"
   ]
  },
  {
   "cell_type": "code",
   "execution_count": null,
   "metadata": {},
   "outputs": [],
   "source": [
    "#dfrw = pd.read_csv(pth + 'drw_appex_news.csv', sep = ',')"
   ]
  },
  {
   "cell_type": "code",
   "execution_count": null,
   "metadata": {},
   "outputs": [],
   "source": [
    "#dfrw = dfrw.sample(frac=0.5,random_state=random_state)"
   ]
  },
  {
   "cell_type": "code",
   "execution_count": 117,
   "metadata": {},
   "outputs": [],
   "source": [
    "dfsp = dfrw.groupby('fonte').apply(sampling_n).reset_index(drop=True)"
   ]
  },
  {
   "cell_type": "code",
   "execution_count": 118,
   "metadata": {},
   "outputs": [
    {
     "data": {
      "text/plain": [
       "planalto          1000\n",
       "defesa            1000\n",
       "mre               1000\n",
       "economia          1000\n",
       "infraestrutura    1000\n",
       "anvisa            1000\n",
       "anac              1000\n",
       "agricultura       1000\n",
       "financas           754\n",
       "Name: fonte, dtype: int64"
      ]
     },
     "execution_count": 118,
     "metadata": {},
     "output_type": "execute_result"
    }
   ],
   "source": [
    "dfsp.fonte.value_counts()"
   ]
  },
  {
   "cell_type": "code",
   "execution_count": 119,
   "metadata": {},
   "outputs": [],
   "source": [
    "dfrw = dfsp"
   ]
  },
  {
   "cell_type": "code",
   "execution_count": 120,
   "metadata": {},
   "outputs": [
    {
     "data": {
      "text/plain": [
       "8754"
      ]
     },
     "execution_count": 120,
     "metadata": {},
     "output_type": "execute_result"
    }
   ],
   "source": [
    "text_raw = []\n",
    "for texto in dfrw['noticia_texto'].to_list():\n",
    "    text_raw.append(texto)\n",
    "len(text_raw)"
   ]
  },
  {
   "cell_type": "code",
   "execution_count": 121,
   "metadata": {},
   "outputs": [
    {
     "data": {
      "text/plain": [
       "'A ministra Tereza Cristina (Agricultura, Pecuária e Abastecimento) falou nesta terça-feira (19) sobre boas práticas de agricultura sustentável em palestra no Instituto Brasil do Wilson Center (centro internacional de estudos e pesquisas).No evento, a ministra destacou\\xa0que vem crescendo no mundo a demanda por alimentos que sejam produzidos com impacto ambiental mínimo e baixo custo. E o\\xa0Tereza Cristina citou que, nos últimos 40 anos, a área ocupada pela agricultura no Brasil aumentou 33%, enquanto a produção cresceu em torno de 386%. Segundo a ministra, este incremento de produtividade é resultado de décadas de investimento em pesquisa e desenvolvimento e de boas políticas públicas.“O Brasil conta com uma das legislações ambientais mais exigentes do mundo. Nosso Código Florestal exige que os produtores rurais destinem uma parte da sua propriedade para preservação. Dito de outra forma, eles não podem produzir nesta área. Na Amazônia, por exemplo, 80% da área de uma propriedade é destinada à preservação. Logo, percebam que o Brasil é o único país do mundo, onde o produtor rural contribui com seu patrimônio para preservar o meio ambiente, sem ser remunerado por isso”, disse Tereza Cristina.A ministra ressaltou os principais desafios da agenda do Ministério da Agricultura, fundamentais para atuar como um tripé para a produção sustentável governança fundiária, inovação tecnológica e qualidade sanitária.\\xa0\"A produção sustentável é a única saída para a humanidade, não temos opções. Precisamos compreender e ajustar nossos sistemas produtivos. O Brasil continuará sua caminhada em prol de uma agropecuária inovadora, dinâmica, lucrativa e sustentável\", afirmou.\\xa0No Wilson Center, a ministra foi recebida pelo diretor do Instituto Brasil, Paulo Sotero.\\xa0Tereza Cristina cumpre agenda nos Estados Unidos nesta semana. Ela\\xa0também terá reuniões no Banco Interamericano de Desenvolvimento e com o secretário de Agricultura dos Estados Unidos, Sonny Perdue. Entre os temas do encontro está a suspensão das importações de carne bovina brasileira\\xa0pelos Estados Unidos.imprensa@agricultura.gov.br'"
      ]
     },
     "execution_count": 121,
     "metadata": {},
     "output_type": "execute_result"
    }
   ],
   "source": [
    "text_raw[0]"
   ]
  },
  {
   "cell_type": "markdown",
   "metadata": {},
   "source": [
    "#### 4) Text Treatment"
   ]
  },
  {
   "cell_type": "code",
   "execution_count": 122,
   "metadata": {},
   "outputs": [],
   "source": [
    "dfrw.dropna(inplace=True)"
   ]
  },
  {
   "cell_type": "code",
   "execution_count": 123,
   "metadata": {},
   "outputs": [],
   "source": [
    "dfrw[text] = dfrw[text].apply(clear_text)"
   ]
  },
  {
   "cell_type": "code",
   "execution_count": 124,
   "metadata": {},
   "outputs": [],
   "source": [
    "dfrw[text] = dfrw[text].apply(lemma_text)"
   ]
  },
  {
   "cell_type": "code",
   "execution_count": 125,
   "metadata": {},
   "outputs": [],
   "source": [
    "dfrw['tamanho'] = dfrw[text].apply(compute_text_size)"
   ]
  },
  {
   "cell_type": "code",
   "execution_count": 126,
   "metadata": {},
   "outputs": [
    {
     "data": {
      "text/plain": [
       "8754"
      ]
     },
     "execution_count": 126,
     "metadata": {},
     "output_type": "execute_result"
    }
   ],
   "source": [
    "textos_tokenizados = []\n",
    "for texto in dfrw[text].to_list():\n",
    "    textos_tokenizados.append(nlp(texto))\n",
    "len(textos_tokenizados)"
   ]
  },
  {
   "cell_type": "code",
   "execution_count": 127,
   "metadata": {},
   "outputs": [
    {
     "data": {
      "text/plain": [
       "8754"
      ]
     },
     "execution_count": 127,
     "metadata": {},
     "output_type": "execute_result"
    }
   ],
   "source": [
    "sources = []\n",
    "for source in dfrw['fonte'].to_list():\n",
    "    sources.append(source)\n",
    "len(sources)"
   ]
  },
  {
   "cell_type": "code",
   "execution_count": 128,
   "metadata": {},
   "outputs": [
    {
     "data": {
      "text/plain": [
       "8754"
      ]
     },
     "execution_count": 128,
     "metadata": {},
     "output_type": "execute_result"
    }
   ],
   "source": [
    "texts_size = []\n",
    "for text in dfrw['tamanho'].to_list():\n",
    "    texts_size.append(text)\n",
    "len(texts_size)"
   ]
  },
  {
   "cell_type": "code",
   "execution_count": 129,
   "metadata": {},
   "outputs": [
    {
     "data": {
      "text/plain": [
       "8754"
      ]
     },
     "execution_count": 129,
     "metadata": {},
     "output_type": "execute_result"
    }
   ],
   "source": [
    "textos_partes_fala = []\n",
    "for tt in textos_tokenizados:\n",
    "    textos_partes_fala.append([(p.text, p.pos_)for p in tt])\n",
    "len(textos_partes_fala)"
   ]
  },
  {
   "cell_type": "code",
   "execution_count": 130,
   "metadata": {},
   "outputs": [
    {
     "data": {
      "text/plain": [
       "8754"
      ]
     },
     "execution_count": 130,
     "metadata": {},
     "output_type": "execute_result"
    }
   ],
   "source": [
    "# Filtragem de partes da fala de interesse:\n",
    "sintax = ['NOUN', 'PROPN', 'ADJ', 'VERB']\n",
    "sintax = ['NOUN','PROPN','PRON']          \n",
    "#sintax = ['NOUN', 'ADJ']  \n",
    "#sintax = ['NOUN']  \n",
    "\n",
    "noticias_filtradas = []\n",
    "for t in textos_partes_fala:\n",
    "    texto_filtrado = []\n",
    "    for palavra, parte_fala in t:\n",
    "        if parte_fala in sintax:\n",
    "            texto_filtrado.append(palavra)\n",
    "    noticias_filtradas.append(\" \".join(texto_filtrado).lower())   \n",
    "len(noticias_filtradas)"
   ]
  },
  {
   "cell_type": "code",
   "execution_count": 131,
   "metadata": {},
   "outputs": [],
   "source": [
    "dfcl = pd.DataFrame({'noticia_texto':noticias_filtradas, 'fonte':sources, 'tamanho': texts_size})"
   ]
  },
  {
   "cell_type": "code",
   "execution_count": 132,
   "metadata": {},
   "outputs": [],
   "source": [
    "dfcl.to_csv(pth + 'dcl_appex_news_001.csv', index=False)"
   ]
  },
  {
   "cell_type": "code",
   "execution_count": 133,
   "metadata": {},
   "outputs": [],
   "source": [
    "#dfcl = pd.read_csv(pth + 'dcl_appex_news_001.csv', sep = ',')"
   ]
  },
  {
   "cell_type": "code",
   "execution_count": 134,
   "metadata": {},
   "outputs": [
    {
     "name": "stdout",
     "output_type": "stream",
     "text": [
      "Vocabulario:31919\n",
      "Registros:8754\n",
      "Tokens:814780\n"
     ]
    }
   ],
   "source": [
    "dfcl['tokens'] = dfcl['noticia_texto'].apply(tkn.tokenize)\n",
    "n_token = [word for tokens in dfcl[\"tokens\"] for word in tokens]\n",
    "n_setence = [len(tokens) for tokens in dfcl[\"tokens\"]]\n",
    "vocab = sorted(list(set(n_token)))\n",
    "print('Vocabulario:{0}'.format(len(vocab)))\n",
    "print('Registros:{0}'.format(len(n_setence)))\n",
    "print('Tokens:{0}'.format(len(n_token)))"
   ]
  },
  {
   "cell_type": "code",
   "execution_count": 135,
   "metadata": {},
   "outputs": [
    {
     "data": {
      "text/plain": [
       "<AxesSubplot:xlabel='Tamanho da setença', ylabel='Número de sentenças'>"
      ]
     },
     "execution_count": 135,
     "metadata": {},
     "output_type": "execute_result"
    },
    {
     "data": {
      "image/png": "[encoded data removed]",
      "text/plain": [
       "<Figure size 1008x360 with 1 Axes>"
      ]
     },
     "metadata": {
      "needs_background": "light"
     },
     "output_type": "display_data"
    }
   ],
   "source": [
    "fig = plt.figure(figsize=(14, 5)) \n",
    "plt.xlabel('Tamanho da setença')\n",
    "plt.ylabel('Número de sentenças')\n",
    "sb.distplot(n_setence)"
   ]
  },
  {
   "cell_type": "markdown",
   "metadata": {},
   "source": [
    "#### 5) Feature Selection"
   ]
  },
  {
   "cell_type": "code",
   "execution_count": 136,
   "metadata": {},
   "outputs": [],
   "source": [
    "#vec_cnt = CountVectorizer(max_df=0.5, min_df=3)\n",
    "#features_vec_cnt = vec_cnt.fit_transform(dfcl[text])\n",
    "#features_vec_cnt.shape"
   ]
  },
  {
   "cell_type": "code",
   "execution_count": 137,
   "metadata": {},
   "outputs": [],
   "source": [
    "vec_tfid01 = TfidfVectorizer(sublinear_tf=True, \n",
    "                            norm='l2', \n",
    "                            encoding='latin-1', \n",
    "                            ngram_range=(1,1), #vai pegar uma palavra (unigrama)                       \n",
    "                            stop_words=stopwords.words('portuguese'),\n",
    "                            tokenizer=tkn.tokenize)\n",
    "features_tfid01 = vec_tfid01.fit_transform(dfcl['noticia_texto'])\n",
    "chi2_score = chi2(features_tfid01, dfcl['fonte'])[0]"
   ]
  },
  {
   "cell_type": "code",
   "execution_count": 138,
   "metadata": {},
   "outputs": [
    {
     "data": {
      "text/html": [
       "<div>\n",
       "<style scoped>\n",
       "    .dataframe tbody tr th:only-of-type {\n",
       "        vertical-align: middle;\n",
       "    }\n",
       "\n",
       "    .dataframe tbody tr th {\n",
       "        vertical-align: top;\n",
       "    }\n",
       "\n",
       "    .dataframe thead th {\n",
       "        text-align: right;\n",
       "    }\n",
       "</style>\n",
       "<table border=\"1\" class=\"dataframe\">\n",
       "  <thead>\n",
       "    <tr style=\"text-align: right;\">\n",
       "      <th></th>\n",
       "      <th>palavra</th>\n",
       "      <th>chi2</th>\n",
       "      <th>fonte</th>\n",
       "    </tr>\n",
       "  </thead>\n",
       "  <tbody>\n",
       "    <tr>\n",
       "      <th>1607</th>\n",
       "      <td>anac</td>\n",
       "      <td>885.142322</td>\n",
       "      <td>anac</td>\n",
       "    </tr>\n",
       "    <tr>\n",
       "      <th>1915</th>\n",
       "      <td>anvisa</td>\n",
       "      <td>843.977712</td>\n",
       "      <td>anac</td>\n",
       "    </tr>\n",
       "    <tr>\n",
       "      <th>961</th>\n",
       "      <td>agricultura</td>\n",
       "      <td>658.229716</td>\n",
       "      <td>agricultura</td>\n",
       "    </tr>\n",
       "    <tr>\n",
       "      <th>4017</th>\n",
       "      <td>bolsonaro</td>\n",
       "      <td>478.414153</td>\n",
       "      <td>economia</td>\n",
       "    </tr>\n",
       "    <tr>\n",
       "      <th>3000</th>\n",
       "      <td>aviacao</td>\n",
       "      <td>436.118761</td>\n",
       "      <td>defesa</td>\n",
       "    </tr>\n",
       "    <tr>\n",
       "      <th>39</th>\n",
       "      <td>abastecimento</td>\n",
       "      <td>323.857321</td>\n",
       "      <td>agricultura</td>\n",
       "    </tr>\n",
       "    <tr>\n",
       "      <th>747</th>\n",
       "      <td>aeroporto</td>\n",
       "      <td>241.522566</td>\n",
       "      <td>agricultura</td>\n",
       "    </tr>\n",
       "    <tr>\n",
       "      <th>8514</th>\n",
       "      <td>defeso</td>\n",
       "      <td>236.051755</td>\n",
       "      <td>planalto</td>\n",
       "    </tr>\n",
       "    <tr>\n",
       "      <th>697</th>\n",
       "      <td>aereo</td>\n",
       "      <td>206.398348</td>\n",
       "      <td>agricultura</td>\n",
       "    </tr>\n",
       "    <tr>\n",
       "      <th>696</th>\n",
       "      <td>aereas</td>\n",
       "      <td>187.351608</td>\n",
       "      <td>agricultura</td>\n",
       "    </tr>\n",
       "  </tbody>\n",
       "</table>\n",
       "</div>"
      ],
      "text/plain": [
       "            palavra        chi2        fonte\n",
       "1607           anac  885.142322         anac\n",
       "1915         anvisa  843.977712         anac\n",
       "961     agricultura  658.229716  agricultura\n",
       "4017      bolsonaro  478.414153     economia\n",
       "3000        aviacao  436.118761       defesa\n",
       "39    abastecimento  323.857321  agricultura\n",
       "747       aeroporto  241.522566  agricultura\n",
       "8514         defeso  236.051755     planalto\n",
       "697           aereo  206.398348  agricultura\n",
       "696          aereas  187.351608  agricultura"
      ]
     },
     "execution_count": 138,
     "metadata": {},
     "output_type": "execute_result"
    }
   ],
   "source": [
    "zipped = zip(vec_tfid01.get_feature_names(), chi2_score, dfcl['fonte'])\n",
    "#zipped = sorted(zipped, key = lambda x: x[1])\n",
    "#top_words = zip(zipped[-10:])\n",
    "df_chi2 = pd.DataFrame(list(zipped), columns = ['palavra', 'chi2','fonte']) \n",
    "df_chi2.sort_values(by=['chi2'], inplace=True, ascending=False)\n",
    "df_chi2.head(10)"
   ]
  },
  {
   "cell_type": "code",
   "execution_count": 139,
   "metadata": {},
   "outputs": [
    {
     "data": {
      "image/png": "[encoded data removed]",
      "text/plain": [
       "<Figure size 1008x360 with 1 Axes>"
      ]
     },
     "metadata": {
      "needs_background": "light"
     },
     "output_type": "display_data"
    }
   ],
   "source": [
    "fig = plt.figure(figsize=(14, 5)) \n",
    "sb.barplot(x = 'palavra', y = 'chi2', data = df_chi2.head(50))\n",
    "plt.xticks(rotation=90)\n",
    "plt.show()"
   ]
  },
  {
   "cell_type": "code",
   "execution_count": 140,
   "metadata": {},
   "outputs": [
    {
     "data": {
      "text/plain": [
       "2241"
      ]
     },
     "execution_count": 140,
     "metadata": {},
     "output_type": "execute_result"
    }
   ],
   "source": [
    "df_chi2 = df_chi2[(df_chi2.chi2 >= 2.8)] \n",
    "len(df_chi2)"
   ]
  },
  {
   "cell_type": "markdown",
   "metadata": {},
   "source": [
    "#### 6) Vectorization "
   ]
  },
  {
   "cell_type": "markdown",
   "metadata": {},
   "source": [
    "#### 6.1) Counter Vectorizer"
   ]
  },
  {
   "cell_type": "code",
   "execution_count": 141,
   "metadata": {},
   "outputs": [
    {
     "data": {
      "text/plain": [
       "(8754, 11716)"
      ]
     },
     "execution_count": 141,
     "metadata": {},
     "output_type": "execute_result"
    }
   ],
   "source": [
    "vec_cnt = CountVectorizer(max_df=0.5, min_df=3)\n",
    "features_vec_cnt = vec_cnt.fit_transform(dfcl['noticia_texto'])\n",
    "features_vec_cnt.shape"
   ]
  },
  {
   "cell_type": "markdown",
   "metadata": {},
   "source": [
    "#### 6.2) TFID-Vectorizer"
   ]
  },
  {
   "cell_type": "code",
   "execution_count": 142,
   "metadata": {},
   "outputs": [
    {
     "data": {
      "text/plain": [
       "(8754, 2241)"
      ]
     },
     "execution_count": 142,
     "metadata": {},
     "output_type": "execute_result"
    }
   ],
   "source": [
    "vec_tfid02 = TfidfVectorizer(vocabulary=df_chi2['palavra'],\n",
    "                        sublinear_tf=True, \n",
    "                        #min_df=1, \n",
    "                        #max_df=0.85, \n",
    "                        #max_features=2000, \n",
    "                        norm='l2', \n",
    "                        encoding='latin-1', \n",
    "                        ngram_range=(1,1),                        \n",
    "                        stop_words=stopwords.words('portuguese'),\n",
    "                        tokenizer=tkn.tokenize)\n",
    "features_tfid02 = vec_tfid02.fit_transform(dfcl['noticia_texto'])\n",
    "features_tfid02.shape"
   ]
  },
  {
   "cell_type": "markdown",
   "metadata": {},
   "source": [
    "#### 7) Topic modeling - técnicas de aprendizado de máquina estatístico para classificação, agrupamento, e detecção de outliers."
   ]
  },
  {
   "cell_type": "markdown",
   "metadata": {},
   "source": [
    "##### 7.1) NMF "
   ]
  },
  {
   "cell_type": "code",
   "execution_count": 143,
   "metadata": {},
   "outputs": [
    {
     "name": "stdout",
     "output_type": "stream",
     "text": [
      "0.37889232486486435\n"
     ]
    }
   ],
   "source": [
    "K = 6\n",
    "nmf = NMF(n_components=K, init='nndsvd', max_iter=1000)\n",
    "start = time.perf_counter()\n",
    "nmf.fit(features_tfid02)\n",
    "end = time.perf_counter() \n",
    "timeit = end - start\n",
    "print(timeit)"
   ]
  },
  {
   "cell_type": "code",
   "execution_count": 144,
   "metadata": {},
   "outputs": [
    {
     "data": {
      "text/plain": [
       "NMF(alpha=0.0, beta_loss='frobenius', init='nndsvd', l1_ratio=0.0,\n",
       "  max_iter=1000, n_components=6, random_state=None, shuffle=False,\n",
       "  solver='cd', tol=0.0001, verbose=0)"
      ]
     },
     "execution_count": 144,
     "metadata": {},
     "output_type": "execute_result"
    }
   ],
   "source": [
    "nmf"
   ]
  },
  {
   "cell_type": "code",
   "execution_count": 145,
   "metadata": {},
   "outputs": [
    {
     "data": {
      "text/plain": [
       "(6, 2241)"
      ]
     },
     "execution_count": 145,
     "metadata": {},
     "output_type": "execute_result"
    }
   ],
   "source": [
    " nmf.components_.shape"
   ]
  },
  {
   "cell_type": "markdown",
   "metadata": {},
   "source": [
    "#### Results"
   ]
  },
  {
   "cell_type": "code",
   "execution_count": 146,
   "metadata": {},
   "outputs": [],
   "source": [
    "df_result = get_word_topics(nmf, vec_tfid02.get_feature_names(), 20) \n",
    "df_result['topico'] = df_result['topico'].apply(get_topic_name)"
   ]
  },
  {
   "cell_type": "code",
   "execution_count": 168,
   "metadata": {},
   "outputs": [
    {
     "data": {
      "text/html": [
       "<div>\n",
       "<style scoped>\n",
       "    .dataframe tbody tr th:only-of-type {\n",
       "        vertical-align: middle;\n",
       "    }\n",
       "\n",
       "    .dataframe tbody tr th {\n",
       "        vertical-align: top;\n",
       "    }\n",
       "\n",
       "    .dataframe thead th {\n",
       "        text-align: right;\n",
       "    }\n",
       "</style>\n",
       "<table border=\"1\" class=\"dataframe\">\n",
       "  <thead>\n",
       "    <tr style=\"text-align: right;\">\n",
       "      <th></th>\n",
       "      <th>topico</th>\n",
       "      <th>palavra</th>\n",
       "      <th>score</th>\n",
       "    </tr>\n",
       "  </thead>\n",
       "  <tbody>\n",
       "    <tr>\n",
       "      <th>0</th>\n",
       "      <td>Government</td>\n",
       "      <td>brasil</td>\n",
       "      <td>0.033768</td>\n",
       "    </tr>\n",
       "    <tr>\n",
       "      <th>1</th>\n",
       "      <td>Government</td>\n",
       "      <td>defeso</td>\n",
       "      <td>0.025402</td>\n",
       "    </tr>\n",
       "    <tr>\n",
       "      <th>2</th>\n",
       "      <td>Government</td>\n",
       "      <td>cooperacao</td>\n",
       "      <td>0.015635</td>\n",
       "    </tr>\n",
       "    <tr>\n",
       "      <th>3</th>\n",
       "      <td>Government</td>\n",
       "      <td>brasileiro</td>\n",
       "      <td>0.015207</td>\n",
       "    </tr>\n",
       "    <tr>\n",
       "      <th>4</th>\n",
       "      <td>Government</td>\n",
       "      <td>acoes</td>\n",
       "      <td>0.014286</td>\n",
       "    </tr>\n",
       "    <tr>\n",
       "      <th>5</th>\n",
       "      <td>Government</td>\n",
       "      <td>comer</td>\n",
       "      <td>0.012330</td>\n",
       "    </tr>\n",
       "    <tr>\n",
       "      <th>6</th>\n",
       "      <td>Government</td>\n",
       "      <td>atividades</td>\n",
       "      <td>0.009637</td>\n",
       "    </tr>\n",
       "    <tr>\n",
       "      <th>7</th>\n",
       "      <td>Government</td>\n",
       "      <td>brasilia</td>\n",
       "      <td>0.009478</td>\n",
       "    </tr>\n",
       "    <tr>\n",
       "      <th>8</th>\n",
       "      <td>Government</td>\n",
       "      <td>chefe</td>\n",
       "      <td>0.009470</td>\n",
       "    </tr>\n",
       "    <tr>\n",
       "      <th>9</th>\n",
       "      <td>Government</td>\n",
       "      <td>areas</td>\n",
       "      <td>0.008943</td>\n",
       "    </tr>\n",
       "    <tr>\n",
       "      <th>10</th>\n",
       "      <td>Government</td>\n",
       "      <td>conselho</td>\n",
       "      <td>0.008046</td>\n",
       "    </tr>\n",
       "    <tr>\n",
       "      <th>11</th>\n",
       "      <td>Government</td>\n",
       "      <td>autoridade</td>\n",
       "      <td>0.008044</td>\n",
       "    </tr>\n",
       "    <tr>\n",
       "      <th>12</th>\n",
       "      <td>Government</td>\n",
       "      <td>assunto</td>\n",
       "      <td>0.007813</td>\n",
       "    </tr>\n",
       "    <tr>\n",
       "      <th>13</th>\n",
       "      <td>Government</td>\n",
       "      <td>ano</td>\n",
       "      <td>0.007470</td>\n",
       "    </tr>\n",
       "    <tr>\n",
       "      <th>14</th>\n",
       "      <td>Government</td>\n",
       "      <td>comunidade</td>\n",
       "      <td>0.007173</td>\n",
       "    </tr>\n",
       "    <tr>\n",
       "      <th>15</th>\n",
       "      <td>Government</td>\n",
       "      <td>controlo</td>\n",
       "      <td>0.007045</td>\n",
       "    </tr>\n",
       "    <tr>\n",
       "      <th>16</th>\n",
       "      <td>Government</td>\n",
       "      <td>alar</td>\n",
       "      <td>0.006947</td>\n",
       "    </tr>\n",
       "    <tr>\n",
       "      <th>17</th>\n",
       "      <td>Government</td>\n",
       "      <td>acao</td>\n",
       "      <td>0.006866</td>\n",
       "    </tr>\n",
       "    <tr>\n",
       "      <th>18</th>\n",
       "      <td>Government</td>\n",
       "      <td>bilateral</td>\n",
       "      <td>0.006765</td>\n",
       "    </tr>\n",
       "    <tr>\n",
       "      <th>19</th>\n",
       "      <td>Government</td>\n",
       "      <td>atuacao</td>\n",
       "      <td>0.006696</td>\n",
       "    </tr>\n",
       "  </tbody>\n",
       "</table>\n",
       "</div>"
      ],
      "text/plain": [
       "        topico     palavra     score\n",
       "0   Government      brasil  0.033768\n",
       "1   Government      defeso  0.025402\n",
       "2   Government  cooperacao  0.015635\n",
       "3   Government  brasileiro  0.015207\n",
       "4   Government       acoes  0.014286\n",
       "5   Government       comer  0.012330\n",
       "6   Government  atividades  0.009637\n",
       "7   Government    brasilia  0.009478\n",
       "8   Government       chefe  0.009470\n",
       "9   Government       areas  0.008943\n",
       "10  Government    conselho  0.008046\n",
       "11  Government  autoridade  0.008044\n",
       "12  Government     assunto  0.007813\n",
       "13  Government         ano  0.007470\n",
       "14  Government  comunidade  0.007173\n",
       "15  Government    controlo  0.007045\n",
       "16  Government        alar  0.006947\n",
       "17  Government        acao  0.006866\n",
       "18  Government   bilateral  0.006765\n",
       "19  Government     atuacao  0.006696"
      ]
     },
     "execution_count": 168,
     "metadata": {},
     "output_type": "execute_result"
    }
   ],
   "source": [
    "df = df_result[(df_result['topico'] == get_topic_name(0))]\n",
    "df.head(20)"
   ]
  },
  {
   "cell_type": "code",
   "execution_count": 148,
   "metadata": {},
   "outputs": [
    {
     "data": {
      "text/html": [
       "<div>\n",
       "<style scoped>\n",
       "    .dataframe tbody tr th:only-of-type {\n",
       "        vertical-align: middle;\n",
       "    }\n",
       "\n",
       "    .dataframe tbody tr th {\n",
       "        vertical-align: top;\n",
       "    }\n",
       "\n",
       "    .dataframe thead th {\n",
       "        text-align: right;\n",
       "    }\n",
       "</style>\n",
       "<table border=\"1\" class=\"dataframe\">\n",
       "  <thead>\n",
       "    <tr style=\"text-align: right;\">\n",
       "      <th></th>\n",
       "      <th>topico</th>\n",
       "      <th>palavra</th>\n",
       "      <th>score</th>\n",
       "    </tr>\n",
       "  </thead>\n",
       "  <tbody>\n",
       "    <tr>\n",
       "      <th>20</th>\n",
       "      <td>Aerospace</td>\n",
       "      <td>anac</td>\n",
       "      <td>0.093114</td>\n",
       "    </tr>\n",
       "    <tr>\n",
       "      <th>21</th>\n",
       "      <td>Aerospace</td>\n",
       "      <td>aviacao</td>\n",
       "      <td>0.072567</td>\n",
       "    </tr>\n",
       "    <tr>\n",
       "      <th>22</th>\n",
       "      <td>Aerospace</td>\n",
       "      <td>aeroporto</td>\n",
       "      <td>0.048920</td>\n",
       "    </tr>\n",
       "    <tr>\n",
       "      <th>23</th>\n",
       "      <td>Aerospace</td>\n",
       "      <td>aeronave</td>\n",
       "      <td>0.028447</td>\n",
       "    </tr>\n",
       "    <tr>\n",
       "      <th>24</th>\n",
       "      <td>Aerospace</td>\n",
       "      <td>brasilia</td>\n",
       "      <td>0.026668</td>\n",
       "    </tr>\n",
       "    <tr>\n",
       "      <th>25</th>\n",
       "      <td>Aerospace</td>\n",
       "      <td>aereas</td>\n",
       "      <td>0.024554</td>\n",
       "    </tr>\n",
       "    <tr>\n",
       "      <th>26</th>\n",
       "      <td>Aerospace</td>\n",
       "      <td>aereo</td>\n",
       "      <td>0.023539</td>\n",
       "    </tr>\n",
       "    <tr>\n",
       "      <th>27</th>\n",
       "      <td>Aerospace</td>\n",
       "      <td>companhia</td>\n",
       "      <td>0.014032</td>\n",
       "    </tr>\n",
       "    <tr>\n",
       "      <th>28</th>\n",
       "      <td>Aerospace</td>\n",
       "      <td>audiencia</td>\n",
       "      <td>0.012040</td>\n",
       "    </tr>\n",
       "    <tr>\n",
       "      <th>29</th>\n",
       "      <td>Aerospace</td>\n",
       "      <td>contribuicoes</td>\n",
       "      <td>0.011886</td>\n",
       "    </tr>\n",
       "    <tr>\n",
       "      <th>30</th>\n",
       "      <td>Aerospace</td>\n",
       "      <td>concessao</td>\n",
       "      <td>0.009190</td>\n",
       "    </tr>\n",
       "    <tr>\n",
       "      <th>31</th>\n",
       "      <td>Aerospace</td>\n",
       "      <td>atendimento</td>\n",
       "      <td>0.008288</td>\n",
       "    </tr>\n",
       "    <tr>\n",
       "      <th>32</th>\n",
       "      <td>Aerospace</td>\n",
       "      <td>agenciar</td>\n",
       "      <td>0.008171</td>\n",
       "    </tr>\n",
       "    <tr>\n",
       "      <th>33</th>\n",
       "      <td>Aerospace</td>\n",
       "      <td>certificacao</td>\n",
       "      <td>0.008069</td>\n",
       "    </tr>\n",
       "    <tr>\n",
       "      <th>34</th>\n",
       "      <td>Aerospace</td>\n",
       "      <td>comunicacao</td>\n",
       "      <td>0.007306</td>\n",
       "    </tr>\n",
       "    <tr>\n",
       "      <th>35</th>\n",
       "      <td>Aerospace</td>\n",
       "      <td>cidade</td>\n",
       "      <td>0.006780</td>\n",
       "    </tr>\n",
       "    <tr>\n",
       "      <th>36</th>\n",
       "      <td>Aerospace</td>\n",
       "      <td>aeronavegabilidade</td>\n",
       "      <td>0.006773</td>\n",
       "    </tr>\n",
       "    <tr>\n",
       "      <th>37</th>\n",
       "      <td>Aerospace</td>\n",
       "      <td>atraso</td>\n",
       "      <td>0.006508</td>\n",
       "    </tr>\n",
       "    <tr>\n",
       "      <th>38</th>\n",
       "      <td>Aerospace</td>\n",
       "      <td>banca</td>\n",
       "      <td>0.006289</td>\n",
       "    </tr>\n",
       "    <tr>\n",
       "      <th>39</th>\n",
       "      <td>Aerospace</td>\n",
       "      <td>acessar</td>\n",
       "      <td>0.005760</td>\n",
       "    </tr>\n",
       "  </tbody>\n",
       "</table>\n",
       "</div>"
      ],
      "text/plain": [
       "       topico             palavra     score\n",
       "20  Aerospace                anac  0.093114\n",
       "21  Aerospace             aviacao  0.072567\n",
       "22  Aerospace           aeroporto  0.048920\n",
       "23  Aerospace            aeronave  0.028447\n",
       "24  Aerospace            brasilia  0.026668\n",
       "25  Aerospace              aereas  0.024554\n",
       "26  Aerospace               aereo  0.023539\n",
       "27  Aerospace           companhia  0.014032\n",
       "28  Aerospace           audiencia  0.012040\n",
       "29  Aerospace       contribuicoes  0.011886\n",
       "30  Aerospace           concessao  0.009190\n",
       "31  Aerospace         atendimento  0.008288\n",
       "32  Aerospace            agenciar  0.008171\n",
       "33  Aerospace        certificacao  0.008069\n",
       "34  Aerospace         comunicacao  0.007306\n",
       "35  Aerospace              cidade  0.006780\n",
       "36  Aerospace  aeronavegabilidade  0.006773\n",
       "37  Aerospace              atraso  0.006508\n",
       "38  Aerospace               banca  0.006289\n",
       "39  Aerospace             acessar  0.005760"
      ]
     },
     "execution_count": 148,
     "metadata": {},
     "output_type": "execute_result"
    }
   ],
   "source": [
    "df = df_result[(df_result['topico'] == get_topic_name(1))]\n",
    "df.head(20)"
   ]
  },
  {
   "cell_type": "code",
   "execution_count": 166,
   "metadata": {},
   "outputs": [
    {
     "data": {
      "text/html": [
       "<div>\n",
       "<style scoped>\n",
       "    .dataframe tbody tr th:only-of-type {\n",
       "        vertical-align: middle;\n",
       "    }\n",
       "\n",
       "    .dataframe tbody tr th {\n",
       "        vertical-align: top;\n",
       "    }\n",
       "\n",
       "    .dataframe thead th {\n",
       "        text-align: right;\n",
       "    }\n",
       "</style>\n",
       "<table border=\"1\" class=\"dataframe\">\n",
       "  <thead>\n",
       "    <tr style=\"text-align: right;\">\n",
       "      <th></th>\n",
       "      <th>topico</th>\n",
       "      <th>palavra</th>\n",
       "      <th>score</th>\n",
       "    </tr>\n",
       "  </thead>\n",
       "  <tbody>\n",
       "    <tr>\n",
       "      <th>40</th>\n",
       "      <td>Health</td>\n",
       "      <td>anvisa</td>\n",
       "      <td>0.194921</td>\n",
       "    </tr>\n",
       "    <tr>\n",
       "      <th>41</th>\n",
       "      <td>Health</td>\n",
       "      <td>anvisa_oficial</td>\n",
       "      <td>0.020803</td>\n",
       "    </tr>\n",
       "    <tr>\n",
       "      <th>42</th>\n",
       "      <td>Health</td>\n",
       "      <td>contribuicoes</td>\n",
       "      <td>0.017972</td>\n",
       "    </tr>\n",
       "    <tr>\n",
       "      <th>43</th>\n",
       "      <td>Health</td>\n",
       "      <td>avaliacao</td>\n",
       "      <td>0.017262</td>\n",
       "    </tr>\n",
       "    <tr>\n",
       "      <th>44</th>\n",
       "      <td>Health</td>\n",
       "      <td>controlo</td>\n",
       "      <td>0.014573</td>\n",
       "    </tr>\n",
       "    <tr>\n",
       "      <th>45</th>\n",
       "      <td>Health</td>\n",
       "      <td>alimento</td>\n",
       "      <td>0.013651</td>\n",
       "    </tr>\n",
       "    <tr>\n",
       "      <th>46</th>\n",
       "      <td>Health</td>\n",
       "      <td>autorizacao</td>\n",
       "      <td>0.012686</td>\n",
       "    </tr>\n",
       "    <tr>\n",
       "      <th>47</th>\n",
       "      <td>Health</td>\n",
       "      <td>atendimento</td>\n",
       "      <td>0.011849</td>\n",
       "    </tr>\n",
       "    <tr>\n",
       "      <th>48</th>\n",
       "      <td>Health</td>\n",
       "      <td>basto</td>\n",
       "      <td>0.011300</td>\n",
       "    </tr>\n",
       "    <tr>\n",
       "      <th>49</th>\n",
       "      <td>Health</td>\n",
       "      <td>comercializacao</td>\n",
       "      <td>0.011271</td>\n",
       "    </tr>\n",
       "    <tr>\n",
       "      <th>50</th>\n",
       "      <td>Health</td>\n",
       "      <td>broadcast</td>\n",
       "      <td>0.010893</td>\n",
       "    </tr>\n",
       "    <tr>\n",
       "      <th>51</th>\n",
       "      <td>Health</td>\n",
       "      <td>chat</td>\n",
       "      <td>0.010581</td>\n",
       "    </tr>\n",
       "    <tr>\n",
       "      <th>52</th>\n",
       "      <td>Health</td>\n",
       "      <td>criterios</td>\n",
       "      <td>0.010415</td>\n",
       "    </tr>\n",
       "    <tr>\n",
       "      <th>53</th>\n",
       "      <td>Health</td>\n",
       "      <td>acesso</td>\n",
       "      <td>0.009826</td>\n",
       "    </tr>\n",
       "    <tr>\n",
       "      <th>54</th>\n",
       "      <td>Health</td>\n",
       "      <td>apo</td>\n",
       "      <td>0.009359</td>\n",
       "    </tr>\n",
       "    <tr>\n",
       "      <th>55</th>\n",
       "      <td>Health</td>\n",
       "      <td>datasus</td>\n",
       "      <td>0.009212</td>\n",
       "    </tr>\n",
       "    <tr>\n",
       "      <th>56</th>\n",
       "      <td>Health</td>\n",
       "      <td>area</td>\n",
       "      <td>0.008969</td>\n",
       "    </tr>\n",
       "    <tr>\n",
       "      <th>57</th>\n",
       "      <td>Health</td>\n",
       "      <td>assunto</td>\n",
       "      <td>0.008186</td>\n",
       "    </tr>\n",
       "    <tr>\n",
       "      <th>58</th>\n",
       "      <td>Health</td>\n",
       "      <td>apresentacao</td>\n",
       "      <td>0.008158</td>\n",
       "    </tr>\n",
       "    <tr>\n",
       "      <th>59</th>\n",
       "      <td>Health</td>\n",
       "      <td>dar</td>\n",
       "      <td>0.007905</td>\n",
       "    </tr>\n",
       "  </tbody>\n",
       "</table>\n",
       "</div>"
      ],
      "text/plain": [
       "    topico          palavra     score\n",
       "40  Health           anvisa  0.194921\n",
       "41  Health   anvisa_oficial  0.020803\n",
       "42  Health    contribuicoes  0.017972\n",
       "43  Health        avaliacao  0.017262\n",
       "44  Health         controlo  0.014573\n",
       "45  Health         alimento  0.013651\n",
       "46  Health      autorizacao  0.012686\n",
       "47  Health      atendimento  0.011849\n",
       "48  Health            basto  0.011300\n",
       "49  Health  comercializacao  0.011271\n",
       "50  Health        broadcast  0.010893\n",
       "51  Health             chat  0.010581\n",
       "52  Health        criterios  0.010415\n",
       "53  Health           acesso  0.009826\n",
       "54  Health              apo  0.009359\n",
       "55  Health          datasus  0.009212\n",
       "56  Health             area  0.008969\n",
       "57  Health          assunto  0.008186\n",
       "58  Health     apresentacao  0.008158\n",
       "59  Health              dar  0.007905"
      ]
     },
     "execution_count": 166,
     "metadata": {},
     "output_type": "execute_result"
    }
   ],
   "source": [
    "df = df_result[(df_result['topico'] == get_topic_name(2))]\n",
    "df.head(40)"
   ]
  },
  {
   "cell_type": "code",
   "execution_count": 150,
   "metadata": {},
   "outputs": [
    {
     "data": {
      "text/html": [
       "<div>\n",
       "<style scoped>\n",
       "    .dataframe tbody tr th:only-of-type {\n",
       "        vertical-align: middle;\n",
       "    }\n",
       "\n",
       "    .dataframe tbody tr th {\n",
       "        vertical-align: top;\n",
       "    }\n",
       "\n",
       "    .dataframe thead th {\n",
       "        text-align: right;\n",
       "    }\n",
       "</style>\n",
       "<table border=\"1\" class=\"dataframe\">\n",
       "  <thead>\n",
       "    <tr style=\"text-align: right;\">\n",
       "      <th></th>\n",
       "      <th>topico</th>\n",
       "      <th>palavra</th>\n",
       "      <th>score</th>\n",
       "    </tr>\n",
       "  </thead>\n",
       "  <tbody>\n",
       "    <tr>\n",
       "      <th>60</th>\n",
       "      <td>Agribusiness</td>\n",
       "      <td>agricultura</td>\n",
       "      <td>0.112970</td>\n",
       "    </tr>\n",
       "    <tr>\n",
       "      <th>61</th>\n",
       "      <td>Agribusiness</td>\n",
       "      <td>abastecimento</td>\n",
       "      <td>0.056325</td>\n",
       "    </tr>\n",
       "    <tr>\n",
       "      <th>62</th>\n",
       "      <td>Agribusiness</td>\n",
       "      <td>agricultor</td>\n",
       "      <td>0.021381</td>\n",
       "    </tr>\n",
       "    <tr>\n",
       "      <th>63</th>\n",
       "      <td>Agribusiness</td>\n",
       "      <td>agricola</td>\n",
       "      <td>0.021134</td>\n",
       "    </tr>\n",
       "    <tr>\n",
       "      <th>64</th>\n",
       "      <td>Agribusiness</td>\n",
       "      <td>cristina</td>\n",
       "      <td>0.019044</td>\n",
       "    </tr>\n",
       "    <tr>\n",
       "      <th>65</th>\n",
       "      <td>Agribusiness</td>\n",
       "      <td>alimento</td>\n",
       "      <td>0.016211</td>\n",
       "    </tr>\n",
       "    <tr>\n",
       "      <th>66</th>\n",
       "      <td>Agribusiness</td>\n",
       "      <td>agricolas</td>\n",
       "      <td>0.014890</td>\n",
       "    </tr>\n",
       "    <tr>\n",
       "      <th>67</th>\n",
       "      <td>Agribusiness</td>\n",
       "      <td>cultura</td>\n",
       "      <td>0.013499</td>\n",
       "    </tr>\n",
       "    <tr>\n",
       "      <th>68</th>\n",
       "      <td>Agribusiness</td>\n",
       "      <td>agronegocio</td>\n",
       "      <td>0.012116</td>\n",
       "    </tr>\n",
       "    <tr>\n",
       "      <th>69</th>\n",
       "      <td>Agribusiness</td>\n",
       "      <td>alimentacao</td>\n",
       "      <td>0.010166</td>\n",
       "    </tr>\n",
       "    <tr>\n",
       "      <th>70</th>\n",
       "      <td>Agribusiness</td>\n",
       "      <td>cooperativismo</td>\n",
       "      <td>0.009708</td>\n",
       "    </tr>\n",
       "    <tr>\n",
       "      <th>71</th>\n",
       "      <td>Agribusiness</td>\n",
       "      <td>comercializacao</td>\n",
       "      <td>0.009543</td>\n",
       "    </tr>\n",
       "    <tr>\n",
       "      <th>72</th>\n",
       "      <td>Agribusiness</td>\n",
       "      <td>conab</td>\n",
       "      <td>0.008625</td>\n",
       "    </tr>\n",
       "    <tr>\n",
       "      <th>73</th>\n",
       "      <td>Agribusiness</td>\n",
       "      <td>agropecuaria</td>\n",
       "      <td>0.008596</td>\n",
       "    </tr>\n",
       "    <tr>\n",
       "      <th>74</th>\n",
       "      <td>Agribusiness</td>\n",
       "      <td>comite</td>\n",
       "      <td>0.007926</td>\n",
       "    </tr>\n",
       "    <tr>\n",
       "      <th>75</th>\n",
       "      <td>Agribusiness</td>\n",
       "      <td>cadeia</td>\n",
       "      <td>0.007850</td>\n",
       "    </tr>\n",
       "    <tr>\n",
       "      <th>76</th>\n",
       "      <td>Agribusiness</td>\n",
       "      <td>bovino</td>\n",
       "      <td>0.007384</td>\n",
       "    </tr>\n",
       "    <tr>\n",
       "      <th>77</th>\n",
       "      <td>Agribusiness</td>\n",
       "      <td>agropecuarios</td>\n",
       "      <td>0.006874</td>\n",
       "    </tr>\n",
       "    <tr>\n",
       "      <th>78</th>\n",
       "      <td>Agribusiness</td>\n",
       "      <td>atividade</td>\n",
       "      <td>0.006459</td>\n",
       "    </tr>\n",
       "    <tr>\n",
       "      <th>79</th>\n",
       "      <td>Agribusiness</td>\n",
       "      <td>cooperativo</td>\n",
       "      <td>0.006244</td>\n",
       "    </tr>\n",
       "  </tbody>\n",
       "</table>\n",
       "</div>"
      ],
      "text/plain": [
       "          topico          palavra     score\n",
       "60  Agribusiness      agricultura  0.112970\n",
       "61  Agribusiness    abastecimento  0.056325\n",
       "62  Agribusiness       agricultor  0.021381\n",
       "63  Agribusiness         agricola  0.021134\n",
       "64  Agribusiness         cristina  0.019044\n",
       "65  Agribusiness         alimento  0.016211\n",
       "66  Agribusiness        agricolas  0.014890\n",
       "67  Agribusiness          cultura  0.013499\n",
       "68  Agribusiness      agronegocio  0.012116\n",
       "69  Agribusiness      alimentacao  0.010166\n",
       "70  Agribusiness   cooperativismo  0.009708\n",
       "71  Agribusiness  comercializacao  0.009543\n",
       "72  Agribusiness            conab  0.008625\n",
       "73  Agribusiness     agropecuaria  0.008596\n",
       "74  Agribusiness           comite  0.007926\n",
       "75  Agribusiness           cadeia  0.007850\n",
       "76  Agribusiness           bovino  0.007384\n",
       "77  Agribusiness    agropecuarios  0.006874\n",
       "78  Agribusiness        atividade  0.006459\n",
       "79  Agribusiness      cooperativo  0.006244"
      ]
     },
     "execution_count": 150,
     "metadata": {},
     "output_type": "execute_result"
    }
   ],
   "source": [
    "df = df_result[(df_result['topico'] == get_topic_name(3))]\n",
    "df.head(20)"
   ]
  },
  {
   "cell_type": "code",
   "execution_count": 151,
   "metadata": {},
   "outputs": [
    {
     "data": {
      "text/html": [
       "<div>\n",
       "<style scoped>\n",
       "    .dataframe tbody tr th:only-of-type {\n",
       "        vertical-align: middle;\n",
       "    }\n",
       "\n",
       "    .dataframe tbody tr th {\n",
       "        vertical-align: top;\n",
       "    }\n",
       "\n",
       "    .dataframe thead th {\n",
       "        text-align: right;\n",
       "    }\n",
       "</style>\n",
       "<table border=\"1\" class=\"dataframe\">\n",
       "  <thead>\n",
       "    <tr style=\"text-align: right;\">\n",
       "      <th></th>\n",
       "      <th>topico</th>\n",
       "      <th>palavra</th>\n",
       "      <th>score</th>\n",
       "    </tr>\n",
       "  </thead>\n",
       "  <tbody>\n",
       "    <tr>\n",
       "      <th>80</th>\n",
       "      <td>Economy</td>\n",
       "      <td>bilhoes</td>\n",
       "      <td>0.049517</td>\n",
       "    </tr>\n",
       "    <tr>\n",
       "      <th>81</th>\n",
       "      <td>Economy</td>\n",
       "      <td>ano</td>\n",
       "      <td>0.044330</td>\n",
       "    </tr>\n",
       "    <tr>\n",
       "      <th>82</th>\n",
       "      <td>Economy</td>\n",
       "      <td>banco</td>\n",
       "      <td>0.024218</td>\n",
       "    </tr>\n",
       "    <tr>\n",
       "      <th>83</th>\n",
       "      <td>Economy</td>\n",
       "      <td>crescimento</td>\n",
       "      <td>0.021052</td>\n",
       "    </tr>\n",
       "    <tr>\n",
       "      <th>84</th>\n",
       "      <td>Economy</td>\n",
       "      <td>atendimento</td>\n",
       "      <td>0.012492</td>\n",
       "    </tr>\n",
       "    <tr>\n",
       "      <th>85</th>\n",
       "      <td>Economy</td>\n",
       "      <td>covid</td>\n",
       "      <td>0.012036</td>\n",
       "    </tr>\n",
       "    <tr>\n",
       "      <th>86</th>\n",
       "      <td>Economy</td>\n",
       "      <td>central</td>\n",
       "      <td>0.011662</td>\n",
       "    </tr>\n",
       "    <tr>\n",
       "      <th>87</th>\n",
       "      <td>Economy</td>\n",
       "      <td>bilhao</td>\n",
       "      <td>0.011203</td>\n",
       "    </tr>\n",
       "    <tr>\n",
       "      <th>88</th>\n",
       "      <td>Economy</td>\n",
       "      <td>acesso</td>\n",
       "      <td>0.011202</td>\n",
       "    </tr>\n",
       "    <tr>\n",
       "      <th>89</th>\n",
       "      <td>Economy</td>\n",
       "      <td>caixa</td>\n",
       "      <td>0.011089</td>\n",
       "    </tr>\n",
       "    <tr>\n",
       "      <th>90</th>\n",
       "      <td>Economy</td>\n",
       "      <td>coronavirus</td>\n",
       "      <td>0.010316</td>\n",
       "    </tr>\n",
       "    <tr>\n",
       "      <th>91</th>\n",
       "      <td>Economy</td>\n",
       "      <td>concessao</td>\n",
       "      <td>0.009357</td>\n",
       "    </tr>\n",
       "    <tr>\n",
       "      <th>92</th>\n",
       "      <td>Economy</td>\n",
       "      <td>comer</td>\n",
       "      <td>0.008727</td>\n",
       "    </tr>\n",
       "    <tr>\n",
       "      <th>93</th>\n",
       "      <td>Economy</td>\n",
       "      <td>bruto</td>\n",
       "      <td>0.008448</td>\n",
       "    </tr>\n",
       "    <tr>\n",
       "      <th>94</th>\n",
       "      <td>Economy</td>\n",
       "      <td>abril</td>\n",
       "      <td>0.007829</td>\n",
       "    </tr>\n",
       "    <tr>\n",
       "      <th>95</th>\n",
       "      <td>Economy</td>\n",
       "      <td>cidadao</td>\n",
       "      <td>0.007328</td>\n",
       "    </tr>\n",
       "    <tr>\n",
       "      <th>96</th>\n",
       "      <td>Economy</td>\n",
       "      <td>brasil</td>\n",
       "      <td>0.007249</td>\n",
       "    </tr>\n",
       "    <tr>\n",
       "      <th>97</th>\n",
       "      <td>Economy</td>\n",
       "      <td>contrato</td>\n",
       "      <td>0.007043</td>\n",
       "    </tr>\n",
       "    <tr>\n",
       "      <th>98</th>\n",
       "      <td>Economy</td>\n",
       "      <td>contratacao</td>\n",
       "      <td>0.006946</td>\n",
       "    </tr>\n",
       "    <tr>\n",
       "      <th>99</th>\n",
       "      <td>Economy</td>\n",
       "      <td>arrecadacao</td>\n",
       "      <td>0.006810</td>\n",
       "    </tr>\n",
       "  </tbody>\n",
       "</table>\n",
       "</div>"
      ],
      "text/plain": [
       "     topico      palavra     score\n",
       "80  Economy      bilhoes  0.049517\n",
       "81  Economy          ano  0.044330\n",
       "82  Economy        banco  0.024218\n",
       "83  Economy  crescimento  0.021052\n",
       "84  Economy  atendimento  0.012492\n",
       "85  Economy        covid  0.012036\n",
       "86  Economy      central  0.011662\n",
       "87  Economy       bilhao  0.011203\n",
       "88  Economy       acesso  0.011202\n",
       "89  Economy        caixa  0.011089\n",
       "90  Economy  coronavirus  0.010316\n",
       "91  Economy    concessao  0.009357\n",
       "92  Economy        comer  0.008727\n",
       "93  Economy        bruto  0.008448\n",
       "94  Economy        abril  0.007829\n",
       "95  Economy      cidadao  0.007328\n",
       "96  Economy       brasil  0.007249\n",
       "97  Economy     contrato  0.007043\n",
       "98  Economy  contratacao  0.006946\n",
       "99  Economy  arrecadacao  0.006810"
      ]
     },
     "execution_count": 151,
     "metadata": {},
     "output_type": "execute_result"
    }
   ],
   "source": [
    "df = df_result[(df_result['topico'] == get_topic_name(4))]\n",
    "df.head(20)"
   ]
  },
  {
   "cell_type": "code",
   "execution_count": 152,
   "metadata": {},
   "outputs": [
    {
     "data": {
      "text/html": [
       "<div>\n",
       "<style scoped>\n",
       "    .dataframe tbody tr th:only-of-type {\n",
       "        vertical-align: middle;\n",
       "    }\n",
       "\n",
       "    .dataframe tbody tr th {\n",
       "        vertical-align: top;\n",
       "    }\n",
       "\n",
       "    .dataframe thead th {\n",
       "        text-align: right;\n",
       "    }\n",
       "</style>\n",
       "<table border=\"1\" class=\"dataframe\">\n",
       "  <thead>\n",
       "    <tr style=\"text-align: right;\">\n",
       "      <th></th>\n",
       "      <th>topico</th>\n",
       "      <th>palavra</th>\n",
       "      <th>score</th>\n",
       "    </tr>\n",
       "  </thead>\n",
       "  <tbody>\n",
       "    <tr>\n",
       "      <th>100</th>\n",
       "      <td>Military</td>\n",
       "      <td>bolsonaro</td>\n",
       "      <td>0.197051</td>\n",
       "    </tr>\n",
       "    <tr>\n",
       "      <th>101</th>\n",
       "      <td>Military</td>\n",
       "      <td>brasil</td>\n",
       "      <td>0.064948</td>\n",
       "    </tr>\n",
       "    <tr>\n",
       "      <th>102</th>\n",
       "      <td>Military</td>\n",
       "      <td>compromisso</td>\n",
       "      <td>0.016399</td>\n",
       "    </tr>\n",
       "    <tr>\n",
       "      <th>103</th>\n",
       "      <td>Military</td>\n",
       "      <td>congresso</td>\n",
       "      <td>0.016193</td>\n",
       "    </tr>\n",
       "    <tr>\n",
       "      <th>104</th>\n",
       "      <td>Military</td>\n",
       "      <td>abertura</td>\n",
       "      <td>0.015627</td>\n",
       "    </tr>\n",
       "    <tr>\n",
       "      <th>105</th>\n",
       "      <td>Military</td>\n",
       "      <td>brasileiro</td>\n",
       "      <td>0.013775</td>\n",
       "    </tr>\n",
       "    <tr>\n",
       "      <th>106</th>\n",
       "      <td>Military</td>\n",
       "      <td>certeza</td>\n",
       "      <td>0.012321</td>\n",
       "    </tr>\n",
       "    <tr>\n",
       "      <th>107</th>\n",
       "      <td>Military</td>\n",
       "      <td>confianca</td>\n",
       "      <td>0.011942</td>\n",
       "    </tr>\n",
       "    <tr>\n",
       "      <th>108</th>\n",
       "      <td>Military</td>\n",
       "      <td>chino</td>\n",
       "      <td>0.011279</td>\n",
       "    </tr>\n",
       "    <tr>\n",
       "      <th>109</th>\n",
       "      <td>Military</td>\n",
       "      <td>coisa</td>\n",
       "      <td>0.010638</td>\n",
       "    </tr>\n",
       "    <tr>\n",
       "      <th>110</th>\n",
       "      <td>Military</td>\n",
       "      <td>barro</td>\n",
       "      <td>0.010268</td>\n",
       "    </tr>\n",
       "    <tr>\n",
       "      <th>111</th>\n",
       "      <td>Military</td>\n",
       "      <td>democracia</td>\n",
       "      <td>0.010238</td>\n",
       "    </tr>\n",
       "    <tr>\n",
       "      <th>112</th>\n",
       "      <td>Military</td>\n",
       "      <td>acordo</td>\n",
       "      <td>0.009727</td>\n",
       "    </tr>\n",
       "    <tr>\n",
       "      <th>113</th>\n",
       "      <td>Military</td>\n",
       "      <td>crise</td>\n",
       "      <td>0.008893</td>\n",
       "    </tr>\n",
       "    <tr>\n",
       "      <th>114</th>\n",
       "      <td>Military</td>\n",
       "      <td>dama</td>\n",
       "      <td>0.008634</td>\n",
       "    </tr>\n",
       "    <tr>\n",
       "      <th>115</th>\n",
       "      <td>Military</td>\n",
       "      <td>civil</td>\n",
       "      <td>0.007752</td>\n",
       "    </tr>\n",
       "    <tr>\n",
       "      <th>116</th>\n",
       "      <td>Military</td>\n",
       "      <td>america</td>\n",
       "      <td>0.007390</td>\n",
       "    </tr>\n",
       "    <tr>\n",
       "      <th>117</th>\n",
       "      <td>Military</td>\n",
       "      <td>crime</td>\n",
       "      <td>0.006890</td>\n",
       "    </tr>\n",
       "    <tr>\n",
       "      <th>118</th>\n",
       "      <td>Military</td>\n",
       "      <td>chefe</td>\n",
       "      <td>0.006615</td>\n",
       "    </tr>\n",
       "    <tr>\n",
       "      <th>119</th>\n",
       "      <td>Military</td>\n",
       "      <td>cada</td>\n",
       "      <td>0.006486</td>\n",
       "    </tr>\n",
       "  </tbody>\n",
       "</table>\n",
       "</div>"
      ],
      "text/plain": [
       "       topico      palavra     score\n",
       "100  Military    bolsonaro  0.197051\n",
       "101  Military       brasil  0.064948\n",
       "102  Military  compromisso  0.016399\n",
       "103  Military    congresso  0.016193\n",
       "104  Military     abertura  0.015627\n",
       "105  Military   brasileiro  0.013775\n",
       "106  Military      certeza  0.012321\n",
       "107  Military    confianca  0.011942\n",
       "108  Military        chino  0.011279\n",
       "109  Military        coisa  0.010638\n",
       "110  Military        barro  0.010268\n",
       "111  Military   democracia  0.010238\n",
       "112  Military       acordo  0.009727\n",
       "113  Military        crise  0.008893\n",
       "114  Military         dama  0.008634\n",
       "115  Military        civil  0.007752\n",
       "116  Military      america  0.007390\n",
       "117  Military        crime  0.006890\n",
       "118  Military        chefe  0.006615\n",
       "119  Military         cada  0.006486"
      ]
     },
     "execution_count": 152,
     "metadata": {},
     "output_type": "execute_result"
    }
   ],
   "source": [
    "df = df_result[(df_result['topico'] == get_topic_name(5))]\n",
    "df.head(20)"
   ]
  },
  {
   "cell_type": "code",
   "execution_count": 169,
   "metadata": {},
   "outputs": [
    {
     "data": {
      "text/html": [
       "<div>\n",
       "<style scoped>\n",
       "    .dataframe tbody tr th:only-of-type {\n",
       "        vertical-align: middle;\n",
       "    }\n",
       "\n",
       "    .dataframe tbody tr th {\n",
       "        vertical-align: top;\n",
       "    }\n",
       "\n",
       "    .dataframe thead th {\n",
       "        text-align: right;\n",
       "    }\n",
       "</style>\n",
       "<table border=\"1\" class=\"dataframe\">\n",
       "  <thead>\n",
       "    <tr style=\"text-align: right;\">\n",
       "      <th></th>\n",
       "      <th>topico</th>\n",
       "      <th>palavra</th>\n",
       "      <th>score</th>\n",
       "    </tr>\n",
       "  </thead>\n",
       "  <tbody>\n",
       "  </tbody>\n",
       "</table>\n",
       "</div>"
      ],
      "text/plain": [
       "Empty DataFrame\n",
       "Columns: [topico, palavra, score]\n",
       "Index: []"
      ]
     },
     "execution_count": 169,
     "metadata": {},
     "output_type": "execute_result"
    }
   ],
   "source": [
    "df = df_result[(df_result['topico'] == get_topic_name(6))]\n",
    "df.head(20)"
   ]
  },
  {
   "cell_type": "code",
   "execution_count": 154,
   "metadata": {},
   "outputs": [],
   "source": [
    "df_result.to_csv(pth + 'df_topicos_004.csv', index=False, sep=';')"
   ]
  },
  {
   "cell_type": "code",
   "execution_count": 155,
   "metadata": {},
   "outputs": [],
   "source": [
    "t0 = []\n",
    "t1 = []\n",
    "t2 = []\n",
    "t3 = []\n",
    "t4 = []\n",
    "t5 = []\n",
    "t6 = []\n",
    "\n",
    "for idx, row in dfcl.iterrows():\n",
    "    texts = []\n",
    "    texts.append(row.noticia_texto)\n",
    "    texts_vec = vec_tfid02.transform(texts)\n",
    "    topics = nmf.transform(texts_vec)\n",
    "    t0.append(topics[0][0])\n",
    "    t1.append(topics[0][1])\n",
    "    t2.append(topics[0][2])\n",
    "    t3.append(topics[0][3])\n",
    "    t4.append(topics[0][4])\n",
    "    t5.append(topics[0][5])\n",
    "    #t6.append(topics[0][6])\n",
    "    \n",
    "df_result_full = pd.DataFrame({'fonte': list(dfcl.fonte),\n",
    "                               'noticia_texto_original': text_raw,\n",
    "                               'score_t0': t0, \n",
    "                               'score_t1': t1,\n",
    "                               'score_t2': t2,\n",
    "                               'score_t3': t3,\n",
    "                               'score_t4': t4,\n",
    "                               'score_t5': t5})\n",
    "                               #'score_t6': t6})"
   ]
  },
  {
   "cell_type": "code",
   "execution_count": 156,
   "metadata": {},
   "outputs": [
    {
     "data": {
      "text/html": [
       "<div>\n",
       "<style scoped>\n",
       "    .dataframe tbody tr th:only-of-type {\n",
       "        vertical-align: middle;\n",
       "    }\n",
       "\n",
       "    .dataframe tbody tr th {\n",
       "        vertical-align: top;\n",
       "    }\n",
       "\n",
       "    .dataframe thead th {\n",
       "        text-align: right;\n",
       "    }\n",
       "</style>\n",
       "<table border=\"1\" class=\"dataframe\">\n",
       "  <thead>\n",
       "    <tr style=\"text-align: right;\">\n",
       "      <th></th>\n",
       "      <th>fonte</th>\n",
       "      <th>noticia_texto_original</th>\n",
       "      <th>score_t0</th>\n",
       "      <th>score_t1</th>\n",
       "      <th>score_t2</th>\n",
       "      <th>score_t3</th>\n",
       "      <th>score_t4</th>\n",
       "      <th>score_t5</th>\n",
       "    </tr>\n",
       "  </thead>\n",
       "  <tbody>\n",
       "    <tr>\n",
       "      <th>0</th>\n",
       "      <td>agricultura</td>\n",
       "      <td>A ministra Tereza Cristina (Agricultura, Pecuá...</td>\n",
       "      <td>0.025729</td>\n",
       "      <td>0.000000</td>\n",
       "      <td>0.000000</td>\n",
       "      <td>0.174348</td>\n",
       "      <td>0.025302</td>\n",
       "      <td>0.022432</td>\n",
       "    </tr>\n",
       "    <tr>\n",
       "      <th>1</th>\n",
       "      <td>agricultura</td>\n",
       "      <td>A Secretaria de Aquicultura e Pesca do Ministé...</td>\n",
       "      <td>0.017599</td>\n",
       "      <td>0.000000</td>\n",
       "      <td>0.004493</td>\n",
       "      <td>0.165187</td>\n",
       "      <td>0.004213</td>\n",
       "      <td>0.006992</td>\n",
       "    </tr>\n",
       "    <tr>\n",
       "      <th>2</th>\n",
       "      <td>agricultura</td>\n",
       "      <td>Ela ressaltou que o mercado de soja já é conhe...</td>\n",
       "      <td>0.029103</td>\n",
       "      <td>0.000000</td>\n",
       "      <td>0.000000</td>\n",
       "      <td>0.098498</td>\n",
       "      <td>0.016310</td>\n",
       "      <td>0.025386</td>\n",
       "    </tr>\n",
       "    <tr>\n",
       "      <th>3</th>\n",
       "      <td>agricultura</td>\n",
       "      <td>O Serviço de Inspeção Estadual (SIE) do Rio de...</td>\n",
       "      <td>0.000000</td>\n",
       "      <td>0.000000</td>\n",
       "      <td>0.000000</td>\n",
       "      <td>0.144873</td>\n",
       "      <td>0.000000</td>\n",
       "      <td>0.000000</td>\n",
       "    </tr>\n",
       "    <tr>\n",
       "      <th>4</th>\n",
       "      <td>agricultura</td>\n",
       "      <td>A partir do dia 1º de outubro, as empresas que...</td>\n",
       "      <td>0.000000</td>\n",
       "      <td>0.002347</td>\n",
       "      <td>0.000000</td>\n",
       "      <td>0.146854</td>\n",
       "      <td>0.000000</td>\n",
       "      <td>0.000000</td>\n",
       "    </tr>\n",
       "    <tr>\n",
       "      <th>5</th>\n",
       "      <td>agricultura</td>\n",
       "      <td>O Ministério da Agricultura, Pecuária e Abaste...</td>\n",
       "      <td>0.021995</td>\n",
       "      <td>0.006551</td>\n",
       "      <td>0.001040</td>\n",
       "      <td>0.098488</td>\n",
       "      <td>0.003381</td>\n",
       "      <td>0.000000</td>\n",
       "    </tr>\n",
       "    <tr>\n",
       "      <th>6</th>\n",
       "      <td>agricultura</td>\n",
       "      <td>O Instituto Nacional de Colonização e Reforma ...</td>\n",
       "      <td>0.015508</td>\n",
       "      <td>0.003980</td>\n",
       "      <td>0.004224</td>\n",
       "      <td>0.038590</td>\n",
       "      <td>0.009991</td>\n",
       "      <td>0.024265</td>\n",
       "    </tr>\n",
       "    <tr>\n",
       "      <th>7</th>\n",
       "      <td>agricultura</td>\n",
       "      <td>Ao final do encontro, a ata com os resultados ...</td>\n",
       "      <td>0.000000</td>\n",
       "      <td>0.000000</td>\n",
       "      <td>0.000000</td>\n",
       "      <td>0.000000</td>\n",
       "      <td>0.166477</td>\n",
       "      <td>0.000000</td>\n",
       "    </tr>\n",
       "    <tr>\n",
       "      <th>8</th>\n",
       "      <td>agricultura</td>\n",
       "      <td>A Secretaria de Política Agrícola do Ministéri...</td>\n",
       "      <td>0.000000</td>\n",
       "      <td>0.000000</td>\n",
       "      <td>0.003198</td>\n",
       "      <td>0.103857</td>\n",
       "      <td>0.040315</td>\n",
       "      <td>0.003231</td>\n",
       "    </tr>\n",
       "    <tr>\n",
       "      <th>9</th>\n",
       "      <td>agricultura</td>\n",
       "      <td>organizam, de 14 a 18 de setembro, o 2º Encon...</td>\n",
       "      <td>0.050663</td>\n",
       "      <td>0.000000</td>\n",
       "      <td>0.000000</td>\n",
       "      <td>0.079121</td>\n",
       "      <td>0.026227</td>\n",
       "      <td>0.014939</td>\n",
       "    </tr>\n",
       "  </tbody>\n",
       "</table>\n",
       "</div>"
      ],
      "text/plain": [
       "         fonte                             noticia_texto_original  score_t0  \\\n",
       "0  agricultura  A ministra Tereza Cristina (Agricultura, Pecuá...  0.025729   \n",
       "1  agricultura  A Secretaria de Aquicultura e Pesca do Ministé...  0.017599   \n",
       "2  agricultura  Ela ressaltou que o mercado de soja já é conhe...  0.029103   \n",
       "3  agricultura  O Serviço de Inspeção Estadual (SIE) do Rio de...  0.000000   \n",
       "4  agricultura  A partir do dia 1º de outubro, as empresas que...  0.000000   \n",
       "5  agricultura  O Ministério da Agricultura, Pecuária e Abaste...  0.021995   \n",
       "6  agricultura  O Instituto Nacional de Colonização e Reforma ...  0.015508   \n",
       "7  agricultura  Ao final do encontro, a ata com os resultados ...  0.000000   \n",
       "8  agricultura  A Secretaria de Política Agrícola do Ministéri...  0.000000   \n",
       "9  agricultura   organizam, de 14 a 18 de setembro, o 2º Encon...  0.050663   \n",
       "\n",
       "   score_t1  score_t2  score_t3  score_t4  score_t5  \n",
       "0  0.000000  0.000000  0.174348  0.025302  0.022432  \n",
       "1  0.000000  0.004493  0.165187  0.004213  0.006992  \n",
       "2  0.000000  0.000000  0.098498  0.016310  0.025386  \n",
       "3  0.000000  0.000000  0.144873  0.000000  0.000000  \n",
       "4  0.002347  0.000000  0.146854  0.000000  0.000000  \n",
       "5  0.006551  0.001040  0.098488  0.003381  0.000000  \n",
       "6  0.003980  0.004224  0.038590  0.009991  0.024265  \n",
       "7  0.000000  0.000000  0.000000  0.166477  0.000000  \n",
       "8  0.000000  0.003198  0.103857  0.040315  0.003231  \n",
       "9  0.000000  0.000000  0.079121  0.026227  0.014939  "
      ]
     },
     "execution_count": 156,
     "metadata": {},
     "output_type": "execute_result"
    }
   ],
   "source": [
    "df_result_full.head(10)"
   ]
  },
  {
   "cell_type": "code",
   "execution_count": 157,
   "metadata": {},
   "outputs": [],
   "source": [
    "df_result_full['score_sum'] =  df_result_full[['score_t0', \n",
    "                                               'score_t1',\n",
    "                                               'score_t2',\n",
    "                                               'score_t3',\n",
    "                                               'score_t4',\n",
    "                                               'score_t5']].sum(axis=1)"
   ]
  },
  {
   "cell_type": "code",
   "execution_count": 158,
   "metadata": {},
   "outputs": [],
   "source": [
    "df_result_full['score_t0'] = df_result_full['score_t0'] / df_result_full['score_sum'] \n",
    "df_result_full['score_t1'] = df_result_full['score_t1'] / df_result_full['score_sum'] \n",
    "df_result_full['score_t2'] = df_result_full['score_t2'] / df_result_full['score_sum'] \n",
    "df_result_full['score_t3'] = df_result_full['score_t3'] / df_result_full['score_sum'] \n",
    "df_result_full['score_t4'] = df_result_full['score_t4'] / df_result_full['score_sum'] \n",
    "df_result_full['score_t5'] = df_result_full['score_t5'] / df_result_full['score_sum'] "
   ]
  },
  {
   "cell_type": "code",
   "execution_count": 159,
   "metadata": {},
   "outputs": [
    {
     "data": {
      "text/plain": [
       "(8754, 9)"
      ]
     },
     "execution_count": 159,
     "metadata": {},
     "output_type": "execute_result"
    }
   ],
   "source": [
    "df_result_full.shape"
   ]
  },
  {
   "cell_type": "code",
   "execution_count": 160,
   "metadata": {},
   "outputs": [],
   "source": [
    "df_result_full = df_result_full[(df_result_full.score_sum > 0)]"
   ]
  },
  {
   "cell_type": "code",
   "execution_count": 161,
   "metadata": {},
   "outputs": [],
   "source": [
    "df_result_full.to_csv(pth + 'df_topicos_noticias_005.csv', index=False, sep=';')"
   ]
  },
  {
   "cell_type": "code",
   "execution_count": 162,
   "metadata": {},
   "outputs": [
    {
     "data": {
      "text/html": [
       "<div>\n",
       "<style scoped>\n",
       "    .dataframe tbody tr th:only-of-type {\n",
       "        vertical-align: middle;\n",
       "    }\n",
       "\n",
       "    .dataframe tbody tr th {\n",
       "        vertical-align: top;\n",
       "    }\n",
       "\n",
       "    .dataframe thead th {\n",
       "        text-align: right;\n",
       "    }\n",
       "</style>\n",
       "<table border=\"1\" class=\"dataframe\">\n",
       "  <thead>\n",
       "    <tr style=\"text-align: right;\">\n",
       "      <th></th>\n",
       "      <th>fonte</th>\n",
       "      <th>noticia_texto_original</th>\n",
       "      <th>score_t0</th>\n",
       "      <th>score_t1</th>\n",
       "      <th>score_t2</th>\n",
       "      <th>score_t3</th>\n",
       "      <th>score_t4</th>\n",
       "      <th>score_t5</th>\n",
       "      <th>score_sum</th>\n",
       "    </tr>\n",
       "  </thead>\n",
       "  <tbody>\n",
       "  </tbody>\n",
       "</table>\n",
       "</div>"
      ],
      "text/plain": [
       "Empty DataFrame\n",
       "Columns: [fonte, noticia_texto_original, score_t0, score_t1, score_t2, score_t3, score_t4, score_t5, score_sum]\n",
       "Index: []"
      ]
     },
     "execution_count": 162,
     "metadata": {},
     "output_type": "execute_result"
    }
   ],
   "source": [
    "dfs = df_result_full[(df_result_full.score_sum == 0)]\n",
    "dfs"
   ]
  },
  {
   "cell_type": "code",
   "execution_count": 163,
   "metadata": {},
   "outputs": [
    {
     "data": {
      "text/plain": [
       "(8180, 9)"
      ]
     },
     "execution_count": 163,
     "metadata": {},
     "output_type": "execute_result"
    }
   ],
   "source": [
    "df_result_full.shape"
   ]
  },
  {
   "cell_type": "code",
   "execution_count": 164,
   "metadata": {},
   "outputs": [
    {
     "data": {
      "text/html": [
       "<div>\n",
       "<style scoped>\n",
       "    .dataframe tbody tr th:only-of-type {\n",
       "        vertical-align: middle;\n",
       "    }\n",
       "\n",
       "    .dataframe tbody tr th {\n",
       "        vertical-align: top;\n",
       "    }\n",
       "\n",
       "    .dataframe thead th {\n",
       "        text-align: right;\n",
       "    }\n",
       "</style>\n",
       "<table border=\"1\" class=\"dataframe\">\n",
       "  <thead>\n",
       "    <tr style=\"text-align: right;\">\n",
       "      <th></th>\n",
       "      <th>fonte</th>\n",
       "      <th>noticia_texto_original</th>\n",
       "      <th>score_t0</th>\n",
       "      <th>score_t1</th>\n",
       "      <th>score_t2</th>\n",
       "      <th>score_t3</th>\n",
       "      <th>score_t4</th>\n",
       "      <th>score_t5</th>\n",
       "      <th>score_sum</th>\n",
       "    </tr>\n",
       "  </thead>\n",
       "  <tbody>\n",
       "    <tr>\n",
       "      <th>0</th>\n",
       "      <td>agricultura</td>\n",
       "      <td>A ministra Tereza Cristina (Agricultura, Pecuá...</td>\n",
       "      <td>0.103825</td>\n",
       "      <td>0.000000</td>\n",
       "      <td>0.000000</td>\n",
       "      <td>0.703550</td>\n",
       "      <td>0.102102</td>\n",
       "      <td>0.090522</td>\n",
       "      <td>0.247811</td>\n",
       "    </tr>\n",
       "    <tr>\n",
       "      <th>1</th>\n",
       "      <td>agricultura</td>\n",
       "      <td>A Secretaria de Aquicultura e Pesca do Ministé...</td>\n",
       "      <td>0.088668</td>\n",
       "      <td>0.000000</td>\n",
       "      <td>0.022637</td>\n",
       "      <td>0.832243</td>\n",
       "      <td>0.021227</td>\n",
       "      <td>0.035226</td>\n",
       "      <td>0.198484</td>\n",
       "    </tr>\n",
       "    <tr>\n",
       "      <th>2</th>\n",
       "      <td>agricultura</td>\n",
       "      <td>Ela ressaltou que o mercado de soja já é conhe...</td>\n",
       "      <td>0.171904</td>\n",
       "      <td>0.000000</td>\n",
       "      <td>0.000000</td>\n",
       "      <td>0.581805</td>\n",
       "      <td>0.096340</td>\n",
       "      <td>0.149950</td>\n",
       "      <td>0.169297</td>\n",
       "    </tr>\n",
       "    <tr>\n",
       "      <th>3</th>\n",
       "      <td>agricultura</td>\n",
       "      <td>O Serviço de Inspeção Estadual (SIE) do Rio de...</td>\n",
       "      <td>0.000000</td>\n",
       "      <td>0.000000</td>\n",
       "      <td>0.000000</td>\n",
       "      <td>1.000000</td>\n",
       "      <td>0.000000</td>\n",
       "      <td>0.000000</td>\n",
       "      <td>0.144873</td>\n",
       "    </tr>\n",
       "    <tr>\n",
       "      <th>4</th>\n",
       "      <td>agricultura</td>\n",
       "      <td>A partir do dia 1º de outubro, as empresas que...</td>\n",
       "      <td>0.000000</td>\n",
       "      <td>0.015731</td>\n",
       "      <td>0.000000</td>\n",
       "      <td>0.984269</td>\n",
       "      <td>0.000000</td>\n",
       "      <td>0.000000</td>\n",
       "      <td>0.149201</td>\n",
       "    </tr>\n",
       "    <tr>\n",
       "      <th>5</th>\n",
       "      <td>agricultura</td>\n",
       "      <td>O Ministério da Agricultura, Pecuária e Abaste...</td>\n",
       "      <td>0.167317</td>\n",
       "      <td>0.049833</td>\n",
       "      <td>0.007912</td>\n",
       "      <td>0.749221</td>\n",
       "      <td>0.025716</td>\n",
       "      <td>0.000000</td>\n",
       "      <td>0.131454</td>\n",
       "    </tr>\n",
       "    <tr>\n",
       "      <th>6</th>\n",
       "      <td>agricultura</td>\n",
       "      <td>O Instituto Nacional de Colonização e Reforma ...</td>\n",
       "      <td>0.160606</td>\n",
       "      <td>0.041220</td>\n",
       "      <td>0.043746</td>\n",
       "      <td>0.399656</td>\n",
       "      <td>0.103467</td>\n",
       "      <td>0.251303</td>\n",
       "      <td>0.096558</td>\n",
       "    </tr>\n",
       "    <tr>\n",
       "      <th>7</th>\n",
       "      <td>agricultura</td>\n",
       "      <td>Ao final do encontro, a ata com os resultados ...</td>\n",
       "      <td>0.000000</td>\n",
       "      <td>0.000000</td>\n",
       "      <td>0.000000</td>\n",
       "      <td>0.000000</td>\n",
       "      <td>1.000000</td>\n",
       "      <td>0.000000</td>\n",
       "      <td>0.166477</td>\n",
       "    </tr>\n",
       "    <tr>\n",
       "      <th>8</th>\n",
       "      <td>agricultura</td>\n",
       "      <td>A Secretaria de Política Agrícola do Ministéri...</td>\n",
       "      <td>0.000000</td>\n",
       "      <td>0.000000</td>\n",
       "      <td>0.021236</td>\n",
       "      <td>0.689614</td>\n",
       "      <td>0.267692</td>\n",
       "      <td>0.021457</td>\n",
       "      <td>0.150601</td>\n",
       "    </tr>\n",
       "    <tr>\n",
       "      <th>9</th>\n",
       "      <td>agricultura</td>\n",
       "      <td>organizam, de 14 a 18 de setembro, o 2º Encon...</td>\n",
       "      <td>0.296360</td>\n",
       "      <td>0.000000</td>\n",
       "      <td>0.000000</td>\n",
       "      <td>0.462831</td>\n",
       "      <td>0.153420</td>\n",
       "      <td>0.087389</td>\n",
       "      <td>0.170950</td>\n",
       "    </tr>\n",
       "  </tbody>\n",
       "</table>\n",
       "</div>"
      ],
      "text/plain": [
       "         fonte                             noticia_texto_original  score_t0  \\\n",
       "0  agricultura  A ministra Tereza Cristina (Agricultura, Pecuá...  0.103825   \n",
       "1  agricultura  A Secretaria de Aquicultura e Pesca do Ministé...  0.088668   \n",
       "2  agricultura  Ela ressaltou que o mercado de soja já é conhe...  0.171904   \n",
       "3  agricultura  O Serviço de Inspeção Estadual (SIE) do Rio de...  0.000000   \n",
       "4  agricultura  A partir do dia 1º de outubro, as empresas que...  0.000000   \n",
       "5  agricultura  O Ministério da Agricultura, Pecuária e Abaste...  0.167317   \n",
       "6  agricultura  O Instituto Nacional de Colonização e Reforma ...  0.160606   \n",
       "7  agricultura  Ao final do encontro, a ata com os resultados ...  0.000000   \n",
       "8  agricultura  A Secretaria de Política Agrícola do Ministéri...  0.000000   \n",
       "9  agricultura   organizam, de 14 a 18 de setembro, o 2º Encon...  0.296360   \n",
       "\n",
       "   score_t1  score_t2  score_t3  score_t4  score_t5  score_sum  \n",
       "0  0.000000  0.000000  0.703550  0.102102  0.090522   0.247811  \n",
       "1  0.000000  0.022637  0.832243  0.021227  0.035226   0.198484  \n",
       "2  0.000000  0.000000  0.581805  0.096340  0.149950   0.169297  \n",
       "3  0.000000  0.000000  1.000000  0.000000  0.000000   0.144873  \n",
       "4  0.015731  0.000000  0.984269  0.000000  0.000000   0.149201  \n",
       "5  0.049833  0.007912  0.749221  0.025716  0.000000   0.131454  \n",
       "6  0.041220  0.043746  0.399656  0.103467  0.251303   0.096558  \n",
       "7  0.000000  0.000000  0.000000  1.000000  0.000000   0.166477  \n",
       "8  0.000000  0.021236  0.689614  0.267692  0.021457   0.150601  \n",
       "9  0.000000  0.000000  0.462831  0.153420  0.087389   0.170950  "
      ]
     },
     "execution_count": 164,
     "metadata": {},
     "output_type": "execute_result"
    }
   ],
   "source": [
    "df_result_full.head(10)"
   ]
  },
  {
   "cell_type": "markdown",
   "metadata": {},
   "source": [
    "#### Save Models"
   ]
  },
  {
   "cell_type": "code",
   "execution_count": 165,
   "metadata": {},
   "outputs": [],
   "source": [
    "vec_tfid_nm = 'vec_tfid.pkl'\n",
    "model_nm = 'model_nmf.pkl'\n",
    "\n",
    "file = open(pth + vec_tfid_nm,'wb')\n",
    "pickle.dump(vec_tfid02,file)\n",
    "file.close()\n",
    "\n",
    "file = open(pth + model_nm,'wb')\n",
    "pickle.dump(nmf,file)\n",
    "file.close()"
   ]
  },
  {
   "cell_type": "code",
   "execution_count": null,
   "metadata": {},
   "outputs": [],
   "source": []
  }
 ],
 "metadata": {
  "kernelspec": {
   "display_name": "Python 3",
   "language": "python",
   "name": "python3"
  },
  "language_info": {
   "codemirror_mode": {
    "name": "ipython",
    "version": 3
   },
   "file_extension": ".py",
   "mimetype": "text/x-python",
   "name": "python",
   "nbconvert_exporter": "python",
   "pygments_lexer": "ipython3",
   "version": "3.6.8"
  }
 },
 "nbformat": 4,
 "nbformat_minor": 2
}
