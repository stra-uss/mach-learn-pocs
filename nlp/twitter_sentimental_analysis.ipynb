
{
 "cells": [
  {
   "cell_type": "markdown",
   "metadata": {},
   "source": [
    "**A Twitter Sentimental Analyser** \n",
    "```c++\n",
    " __author__  =  'Strauss'\n",
    " __project__ =  'Machine Learning Proof of Concepts'\n",
    " __date__    =  '19/10/2020 01:51:02 (initial)'\n",
    "```"
   ]
  },
  {
   "cell_type": "code",
   "execution_count": 153,
   "metadata": {},
   "outputs": [],
   "source": [
    "import pandas as pd\n",
    "import numpy as np\n",
    "import pickle\n",
    "import time\n",
    "import itertools\n",
    "import nltk\n",
    "from nltk.corpus import stopwords\n",
    "from nltk.tokenize import sent_tokenize\n",
    "from nltk.tokenize import RegexpTokenizer\n",
    "from nltk.tokenize import TweetTokenizer\n",
    "import re\n",
    "import string\n",
    "import seaborn as sb\n",
    "import matplotlib.pyplot as plt\n",
    "import matplotlib\n",
    "from sklearn.model_selection import train_test_split\n",
    "from sklearn.model_selection import cross_val_score\n",
    "from sklearn.naive_bayes import MultinomialNB\n",
    "from sklearn.linear_model import LogisticRegression\n",
    "from sklearn import svm\n",
    "from sklearn.multiclass import OneVsOneClassifier\n",
    "from sklearn.multiclass import OneVsRestClassifier\n",
    "from sklearn.linear_model import SGDClassifier\n",
    "from sklearn.decomposition import PCA, TruncatedSVD\n",
    "from sklearn.svm import LinearSVC\n",
    "from sklearn.ensemble import AdaBoostClassifier\n",
    "from sklearn.ensemble import GradientBoostingClassifier\n",
    "from sklearn.ensemble import RandomForestClassifier\n",
    "from sklearn.ensemble import ExtraTreesClassifier\n",
    "from sklearn.ensemble import RandomForestClassifier\n",
    "from sklearn.feature_extraction.text import CountVectorizer\n",
    "from sklearn.feature_extraction.text import TfidfVectorizer\n",
    "from sklearn.feature_extraction.text import TfidfTransformer\n",
    "from sklearn.feature_selection import chi2, SelectKBest\n",
    "from sklearn.metrics import accuracy_score, f1_score, precision_score, recall_score,classification_report\n",
    "from sklearn.metrics import confusion_matrix\n",
    "from imblearn.over_sampling import SMOTE "
   ]
  },
  {
   "cell_type": "markdown",
   "metadata": {},
   "source": [
    "#### Methods"
   ]
  },
  {
   "cell_type": "code",
   "execution_count": 2,
   "metadata": {},
   "outputs": [],
   "source": [
    "def plot_confusion_matrix(cm, classes,normalize=False,cmap=plt.cm.Blues):\n",
    "  title='Confusion Matrix Sentimental Analysis'\n",
    "  try:\n",
    "    if normalize:\n",
    "        cm = cm.astype('float') / cm.sum(axis=1)[:, np.newaxis]\n",
    "    plt.imshow(cm, interpolation='nearest', cmap=cmap)\n",
    "    plt.title(title)\n",
    "    plt.colorbar()\n",
    "    tick_marks = np.arange(len(classes))\n",
    "    plt.xticks(tick_marks, classes, rotation=45)\n",
    "    plt.yticks(tick_marks, classes)\n",
    "    fmt = '.2f' if normalize else 'd'\n",
    "    thresh = cm.max() / 2.\n",
    "    for i, j in itertools.product(range(cm.shape[0]), range(cm.shape[1])):\n",
    "        plt.text(j, i, format(cm[i, j], fmt),\n",
    "                 horizontalalignment=\"center\",\n",
    "                 color=\"white\" if cm[i, j] > thresh else \"black\")\n",
    "    plt.ylabel('True values')\n",
    "    plt.xlabel('Predicted values')\n",
    "    plt.tight_layout()\n",
    "  except Exception as err:\n",
    "    print('Erro ao plotar grafico: {0}'.format(err))"
   ]
  },
  {
   "cell_type": "code",
   "execution_count": 43,
   "metadata": {},
   "outputs": [],
   "source": [
    "def clear_twitter_text(tweet):\n",
    "    tweet = re.sub(r\"http\\S+\", \"\", tweet).lower().replace('.','').replace(';','').replace('-','').replace(':','').replace(')','')   \n",
    "    return (tweet)"
   ]
  },
  {
   "cell_type": "code",
   "execution_count": 45,
   "metadata": {},
   "outputs": [],
   "source": [
    "def kill_stop_word(tweet):\n",
    "    tweet = [i for i in tweet.split() if not i in stop_words]\n",
    "    return (\" \".join(tweet))    "
   ]
  },
  {
   "cell_type": "markdown",
   "metadata": {},
   "source": [
    "#### Tokenizers ad Stop Words"
   ]
  },
  {
   "cell_type": "code",
   "execution_count": 48,
   "metadata": {},
   "outputs": [
    {
     "name": "stderr",
     "output_type": "stream",
     "text": [
      "[nltk_data] Downloading package stopwords to /home/oak/nltk_data...\n",
      "[nltk_data]   Package stopwords is already up-to-date!\n",
      "[nltk_data] Downloading package rslp to /home/oak/nltk_data...\n",
      "[nltk_data]   Package rslp is already up-to-date!\n"
     ]
    }
   ],
   "source": [
    "nltk.download('stopwords')\n",
    "nltk.download('rslp')\n",
    "\n",
    "#stop_words = stopwords.words('portuguese')\n",
    "stop_words = set(nltk.corpus.stopwords.words('portuguese'))\n",
    "stop_words.remove('não')\n",
    "\n",
    "tkn = RegexpTokenizer(r'\\w+')\n",
    "tw_tkn = TweetTokenizer()"
   ]
  },
  {
   "cell_type": "markdown",
   "metadata": {},
   "source": [
    "#### Environment Configurations"
   ]
  },
  {
   "cell_type": "code",
   "execution_count": 5,
   "metadata": {},
   "outputs": [],
   "source": [
    "pth = '/media/oak/4D38-34DE1/DATA/social_media/twitter/'\n",
    "drw_nm = 'drw_twitties_mg.csv'\n",
    "x_nm = 'texto'\n",
    "y_nm = 'classe_sentimento'\n",
    "random_state = 1612"
   ]
  },
  {
   "cell_type": "markdown",
   "metadata": {},
   "source": [
    "#### Data Clean"
   ]
  },
  {
   "cell_type": "code",
   "execution_count": 49,
   "metadata": {},
   "outputs": [
    {
     "data": {
      "text/plain": [
       "(5765, 2)"
      ]
     },
     "execution_count": 49,
     "metadata": {},
     "output_type": "execute_result"
    }
   ],
   "source": [
    "drw = pd.read_csv(pth + drw_nm, sep=',')\n",
    "drw = drw[['Text','Classificacao']]\n",
    "dcl = drw.rename(columns={'Text': x_nm , 'Classificacao': y_nm})\n",
    "dcl = dcl[pd.notnull(dcl[x_nm])]\n",
    "dcl.drop_duplicates([x_nm], inplace=True)\n",
    "dcl[x_nm] = dcl[x_nm].apply(clear_twitter_text)\n",
    "dcl[x_nm] = dcl[x_nm].apply(kill_stop_word)\n",
    "dcl.shape"
   ]
  },
  {
   "cell_type": "code",
   "execution_count": 50,
   "metadata": {},
   "outputs": [
    {
     "data": {
      "text/html": [
       "<div>\n",
       "<style scoped>\n",
       "    .dataframe tbody tr th:only-of-type {\n",
       "        vertical-align: middle;\n",
       "    }\n",
       "\n",
       "    .dataframe tbody tr th {\n",
       "        vertical-align: top;\n",
       "    }\n",
       "\n",
       "    .dataframe thead th {\n",
       "        text-align: right;\n",
       "    }\n",
       "</style>\n",
       "<table border=\"1\" class=\"dataframe\">\n",
       "  <thead>\n",
       "    <tr style=\"text-align: right;\">\n",
       "      <th></th>\n",
       "      <th>texto</th>\n",
       "      <th>classe_sentimento</th>\n",
       "    </tr>\n",
       "  </thead>\n",
       "  <tbody>\n",
       "    <tr>\n",
       "      <th>0</th>\n",
       "      <td>���⛪ @ catedral santo antônio governador valad...</td>\n",
       "      <td>Neutro</td>\n",
       "    </tr>\n",
       "    <tr>\n",
       "      <th>1</th>\n",
       "      <td>� @ governador valadares, minas gerais</td>\n",
       "      <td>Neutro</td>\n",
       "    </tr>\n",
       "    <tr>\n",
       "      <th>2</th>\n",
       "      <td>�� @ governador valadares, minas gerais</td>\n",
       "      <td>Neutro</td>\n",
       "    </tr>\n",
       "    <tr>\n",
       "      <th>3</th>\n",
       "      <td>���</td>\n",
       "      <td>Neutro</td>\n",
       "    </tr>\n",
       "    <tr>\n",
       "      <th>4</th>\n",
       "      <td>��� psol vai questionar aumento vereadores pre...</td>\n",
       "      <td>Negativo</td>\n",
       "    </tr>\n",
       "  </tbody>\n",
       "</table>\n",
       "</div>"
      ],
      "text/plain": [
       "                                               texto classe_sentimento\n",
       "0  ���⛪ @ catedral santo antônio governador valad...            Neutro\n",
       "1             � @ governador valadares, minas gerais            Neutro\n",
       "2            �� @ governador valadares, minas gerais            Neutro\n",
       "3                                                ���            Neutro\n",
       "4  ��� psol vai questionar aumento vereadores pre...          Negativo"
      ]
     },
     "execution_count": 50,
     "metadata": {},
     "output_type": "execute_result"
    }
   ],
   "source": [
    "dcl.head(5)"
   ]
  },
  {
   "cell_type": "markdown",
   "metadata": {},
   "source": [
    "#### Data Analysis"
   ]
  },
  {
   "cell_type": "code",
   "execution_count": 51,
   "metadata": {},
   "outputs": [
    {
     "data": {
      "text/plain": [
       "<matplotlib.axes._subplots.AxesSubplot at 0x7f7d2c11ec88>"
      ]
     },
     "execution_count": 51,
     "metadata": {},
     "output_type": "execute_result"
    },
    {
     "data": {
      "image/png": "[encoded data removed]",
      "text/plain": [
       "<Figure size 504x216 with 1 Axes>"
      ]
     },
     "metadata": {
      "needs_background": "light"
     },
     "output_type": "display_data"
    }
   ],
   "source": [
    "plt.figure(figsize=(7,3))\n",
    "sb.countplot(x = y_nm, data = dcl)"
   ]
  },
  {
   "cell_type": "code",
   "execution_count": 52,
   "metadata": {},
   "outputs": [
    {
     "data": {
      "text/plain": [
       "Positivo    2840\n",
       "Neutro      1974\n",
       "Negativo     951\n",
       "Name: classe_sentimento, dtype: int64"
      ]
     },
     "execution_count": 52,
     "metadata": {},
     "output_type": "execute_result"
    }
   ],
   "source": [
    "dcl[y_nm].value_counts()"
   ]
  },
  {
   "cell_type": "code",
   "execution_count": 53,
   "metadata": {},
   "outputs": [
    {
     "name": "stdout",
     "output_type": "stream",
     "text": [
      "Vocabulario:7338\n",
      "Registros:5765\n",
      "Tokens:61803\n"
     ]
    }
   ],
   "source": [
    "dcl['tokens'] = dcl[x_nm].apply(tw_tkn.tokenize)\n",
    "n_token = [word for tokens in dcl[\"tokens\"] for word in tokens]\n",
    "n_setence = [len(tokens) for tokens in dcl[\"tokens\"]]\n",
    "vocab = sorted(list(set(n_token)))\n",
    "print('Vocabulario:{0}'.format(len(vocab)))\n",
    "print('Registros:{0}'.format(len(n_setence)))\n",
    "print('Tokens:{0}'.format(len(n_token)))"
   ]
  },
  {
   "cell_type": "code",
   "execution_count": 54,
   "metadata": {},
   "outputs": [
    {
     "data": {
      "text/plain": [
       "<matplotlib.axes._subplots.AxesSubplot at 0x7f7d2ba13be0>"
      ]
     },
     "execution_count": 54,
     "metadata": {},
     "output_type": "execute_result"
    },
    {
     "data": {
      "image/png": "[encoded data removed]",
      "text/plain": [
       "<Figure size 864x288 with 1 Axes>"
      ]
     },
     "metadata": {
      "needs_background": "light"
     },
     "output_type": "display_data"
    }
   ],
   "source": [
    "fig = plt.figure(figsize=(12, 4)) \n",
    "plt.xlabel('Tamanho da setença')\n",
    "plt.ylabel('Número de sentenças')\n",
    "sb.distplot(n_setence)"
   ]
  },
  {
   "cell_type": "markdown",
   "metadata": {},
   "source": [
    "#### Vectorization"
   ]
  },
  {
   "cell_type": "code",
   "execution_count": 159,
   "metadata": {},
   "outputs": [
    {
     "data": {
      "text/plain": [
       "(5765, 25559)"
      ]
     },
     "execution_count": 159,
     "metadata": {},
     "output_type": "execute_result"
    }
   ],
   "source": [
    "vec_tf = TfidfVectorizer(sublinear_tf=True, \n",
    "                        min_df=1, \n",
    "                        norm='l2', \n",
    "                        encoding='latin-1', \n",
    "                        ngram_range=(1, 2),\n",
    "                        stop_words=stopwords.words('portuguese'),\n",
    "                        tokenizer=tw_tkn.tokenize)\n",
    "\n",
    "features_vec = vec_tf.fit_transform(dcl[x_nm])\n",
    "Y = dcl[y_nm]\n",
    "features_vec.shape"
   ]
  },
  {
   "cell_type": "code",
   "execution_count": 160,
   "metadata": {},
   "outputs": [
    {
     "data": {
      "text/plain": [
       "(5765, 9000)"
      ]
     },
     "execution_count": 160,
     "metadata": {},
     "output_type": "execute_result"
    }
   ],
   "source": [
    "n = 9000\n",
    "ch2 = SelectKBest(score_func=chi2, k=n)\n",
    "features_ch2_vec = ch2.fit_transform(features_vec, Y)\n",
    "features_ch2_vec.shape"
   ]
  },
  {
   "cell_type": "markdown",
   "metadata": {},
   "source": [
    "#### Cross Validation"
   ]
  },
  {
   "cell_type": "code",
   "execution_count": 186,
   "metadata": {},
   "outputs": [
    {
     "data": {
      "text/plain": [
       "<4323x9000 sparse matrix of type '<class 'numpy.float64'>'\n",
       "\twith 69430 stored elements in Compressed Sparse Row format>"
      ]
     },
     "execution_count": 186,
     "metadata": {},
     "output_type": "execute_result"
    }
   ],
   "source": [
    "X_train,x_test,Y_train,y_test = train_test_split(features_ch2_vec,Y,shuffle=True,random_state = random_state)\n",
    "X_train"
   ]
  },
  {
   "cell_type": "markdown",
   "metadata": {},
   "source": [
    "#### Data Sampling"
   ]
  },
  {
   "cell_type": "code",
   "execution_count": 83,
   "metadata": {},
   "outputs": [],
   "source": [
    "samp_smote = SMOTE(random_state = random_state) \n",
    "X_train_samp, Y_train_samp = samp_smote.fit_sample(X_train,Y_train) \n",
    "x_teste_samp, y_test_samp = samp_smote.fit_sample(x_test,y_test) "
   ]
  },
  {
   "cell_type": "code",
   "execution_count": 84,
   "metadata": {},
   "outputs": [
    {
     "data": {
      "text/plain": [
       "<matplotlib.axes._subplots.AxesSubplot at 0x7f7d2bd38780>"
      ]
     },
     "execution_count": 84,
     "metadata": {},
     "output_type": "execute_result"
    },
    {
     "data": {
      "image/png": "[encoded data removed]",
      "text/plain": [
       "<Figure size 504x216 with 1 Axes>"
      ]
     },
     "metadata": {
      "needs_background": "light"
     },
     "output_type": "display_data"
    }
   ],
   "source": [
    "plt.figure(figsize=(7,3))\n",
    "sb.countplot(x = y_nm, data = Y_train_samp.to_frame())"
   ]
  },
  {
   "cell_type": "markdown",
   "metadata": {},
   "source": [
    "#### Models Evaluation"
   ]
  },
  {
   "cell_type": "code",
   "execution_count": 85,
   "metadata": {},
   "outputs": [],
   "source": [
    "k_fold = 5\n",
    "models      = []\n",
    "results     = []\n",
    "names       = []\n",
    "vectorizers = []\n",
    "models.append(('OneVsRest',OneVsRestClassifier(LinearSVC(random_state=random_state)))) \n",
    "models.append(('OneVsOne', OneVsOneClassifier(LinearSVC(random_state=random_state)))) \n",
    "models.append(('NB',       MultinomialNB())) \n",
    "models.append(('LR',       LogisticRegression(C=30.0, class_weight='balanced', solver='newton-cg', multi_class='multinomial', n_jobs=-1, random_state=random_state)))\n",
    "models.append(('RandomForest', RandomForestClassifier(n_estimators=10, random_state=random_state))) \n",
    "models.append(('ExtraTrees', ExtraTreesClassifier(n_estimators=10, random_state=random_state)))\n",
    "models.append(('sgd', SGDClassifier(loss='hinge', penalty='l2',alpha=1e-3, random_state=random_state, max_iter=5, tol=None)))\n",
    "models.append(('svm',  (svm.SVC(C=1.0, kernel='linear', degree=3, gamma='auto'))))\n",
    "#models.append(('AdaBoost', AdaBoostClassifier(random_state=random_state))) \n",
    "#models.append(('GradientBoosting', GradientBoostingClassifier(random_state=random_state))) "
   ]
  },
  {
   "cell_type": "markdown",
   "metadata": {},
   "source": [
    "#### Training"
   ]
  },
  {
   "cell_type": "code",
   "execution_count": 86,
   "metadata": {},
   "outputs": [
    {
     "name": "stdout",
     "output_type": "stream",
     "text": [
      "Inicio do Treino...\n",
      "Modelo:OneVsRest        Média :0.97283  STD:0.00934 Tempo execucao:0.5335\n",
      "Modelo:OneVsOne         Média :0.9719  STD:0.01054 Tempo execucao:0.887\n",
      "Modelo:NB               Média :0.95614  STD:0.01108 Tempo execucao:1.0235\n",
      "Modelo:LR               Média :0.97687  STD:0.01035 Tempo execucao:3.0788\n",
      "Modelo:RandomForest     Média :0.95612  STD:0.02521 Tempo execucao:4.7373\n",
      "Modelo:ExtraTrees       Média :0.96635  STD:0.01922 Tempo execucao:7.5279\n",
      "Modelo:sgd              Média :0.95246  STD:0.01459 Tempo execucao:7.6754\n",
      "Modelo:svm              Média :0.96474  STD:0.00944 Tempo execucao:20.4649\n",
      "Fim do Treino\n",
      "Tempo gasto:20.465298891067505\n"
     ]
    }
   ],
   "source": [
    "print('Inicio do Treino...')\n",
    "k_fold=5\n",
    "start=time.time() \n",
    "for nme_model, model in models:\n",
    "  model.fit(X_train_samp,Y_train_samp)\n",
    "  metrics_k_fold = cross_val_score(model, X_train_samp, Y_train_samp, cv=k_fold, scoring='f1_macro')   \n",
    "  elapsed = time.time() - start\n",
    "  results.append(metrics_k_fold)\n",
    "  names.append(nme_model)\n",
    "  print('Modelo:{0} Média :{1}  STD:{2} Tempo execucao:{3}'.format(nme_model.ljust(16,' '),round(metrics_k_fold.mean(),5),round(metrics_k_fold.std(),5),round(elapsed,4)))  \n",
    "print('Fim do Treino')\n",
    "print('Tempo gasto:{0}'.format(time.time() - start))  "
   ]
  },
  {
   "cell_type": "markdown",
   "metadata": {},
   "source": [
    "#### Test"
   ]
  },
  {
   "cell_type": "code",
   "execution_count": 87,
   "metadata": {},
   "outputs": [
    {
     "name": "stdout",
     "output_type": "stream",
     "text": [
      "Modelo:OneVsRest             Score:0.9278  Tempo execucao:0.0133\n",
      "Modelo:OneVsOne              Score:0.9251  Tempo execucao:0.0298\n",
      "Modelo:NB                    Score:0.9297  Tempo execucao:0.041\n",
      "Modelo:LR                    Score:0.9284  Tempo execucao:0.0553\n",
      "Modelo:RandomForest          Score:0.9207  Tempo execucao:0.0922\n",
      "Modelo:ExtraTrees            Score:0.9163  Tempo execucao:0.1205\n",
      "Modelo:sgd                   Score:0.901  Tempo execucao:0.1296\n",
      "Modelo:svm                   Score:0.9185  Tempo execucao:0.7303\n"
     ]
    }
   ],
   "source": [
    "metric=[]\n",
    "start = time.time()\n",
    "for name, model in models:\n",
    "  yp = model.predict(x_teste_samp)\n",
    "  score = round(f1_score(y_test_samp, yp, pos_label=1, average='macro'),4)  \n",
    "  elapsed = time.time() - start\n",
    "  metric.append(score)\n",
    "  print('Modelo:{0}  Score:{1}  Tempo execucao:{2}'.format(name.ljust(20,' '),round(score,5),round(elapsed,4)))"
   ]
  },
  {
   "cell_type": "code",
   "execution_count": 88,
   "metadata": {},
   "outputs": [
    {
     "data": {
      "text/plain": [
       "LogisticRegression(C=30.0, class_weight='balanced', multi_class='multinomial',\n",
       "                   n_jobs=-1, random_state=1612, solver='newton-cg')"
      ]
     },
     "execution_count": 88,
     "metadata": {},
     "output_type": "execute_result"
    }
   ],
   "source": [
    "model_win = models[3][1]\n",
    "model_win"
   ]
  },
  {
   "cell_type": "code",
   "execution_count": 147,
   "metadata": {},
   "outputs": [
    {
     "data": {
      "image/png": "[encoded data removed]",
      "text/plain": [
       "<Figure size 504x360 with 2 Axes>"
      ]
     },
     "metadata": {
      "needs_background": "light"
     },
     "output_type": "display_data"
    }
   ],
   "source": [
    "classes = ['Negativo', 'Neutro', 'Positivo']\n",
    "yp = model_win.predict(x_teste_samp)\n",
    "cm=confusion_matrix(y_test_samp, yp)\n",
    "np.set_printoptions(precision=2)\n",
    "plt.figure(figsize=(7,5))\n",
    "plot_confusion_matrix(cm, classes)"
   ]
  },
  {
   "cell_type": "code",
   "execution_count": 149,
   "metadata": {},
   "outputs": [
    {
     "name": "stdout",
     "output_type": "stream",
     "text": [
      "              precision    recall  f1-score   support\n",
      "\n",
      "    Negativo       0.99      0.84      0.91       712\n",
      "      Neutro       0.84      0.98      0.90       712\n",
      "    Positivo       0.99      0.96      0.97       712\n",
      "\n",
      "    accuracy                           0.93      2136\n",
      "   macro avg       0.94      0.93      0.93      2136\n",
      "weighted avg       0.94      0.93      0.93      2136\n",
      "\n"
     ]
    }
   ],
   "source": [
    "print(classification_report(y_test_samp,yp,classes))"
   ]
  },
  {
   "cell_type": "markdown",
   "metadata": {},
   "source": [
    "#### Save steps pipeline models to deploy"
   ]
  },
  {
   "cell_type": "code",
   "execution_count": 90,
   "metadata": {},
   "outputs": [],
   "source": [
    "model_nm = \"c1_classifier.pkl\"  \n",
    "vec_nm   = 'c1_vect.pkl'\n",
    "ch2_nm   = 'c1_ch2.pkl'\n",
    "samp_nm  = 'c1_sample.pkl'\n",
    "\n",
    "with open(model_nm, 'wb') as file:  \n",
    "  pickle.dump(model_win, file)\n",
    "\n",
    "with open(vec_nm, 'wb') as file:  \n",
    "  pickle.dump(vec_tf, file)\n",
    "\n",
    "with open(ch2_nm, 'wb') as file:  \n",
    "  pickle.dump(ch2, file)\n",
    "\n",
    "with open(samp_nm, 'wb') as file:  \n",
    "  pickle.dump(samp_smote, file)"
   ]
  },
  {
   "cell_type": "markdown",
   "metadata": {},
   "source": [
    "#### Running the model"
   ]
  },
  {
   "cell_type": "code",
   "execution_count": 91,
   "metadata": {},
   "outputs": [],
   "source": [
    "with open(model_nm, 'rb') as file:  \n",
    "    model = pickle.load(file)\n",
    "\n",
    "with open(vec_nm, 'rb') as file:  \n",
    "    vec = pickle.load(file)    \n",
    "\n",
    "with open(ch2_nm, 'rb') as file:  \n",
    "    ch2 = pickle.load(file)    \n",
    "\n",
    "with open(samp_nm, 'rb') as file:  \n",
    "    sample = pickle.load(file)"
   ]
  },
  {
   "cell_type": "code",
   "execution_count": 92,
   "metadata": {},
   "outputs": [
    {
     "data": {
      "text/plain": [
       "LogisticRegression(C=30.0, class_weight='balanced', multi_class='multinomial',\n",
       "                   n_jobs=-1, random_state=1612, solver='newton-cg')"
      ]
     },
     "execution_count": 92,
     "metadata": {},
     "output_type": "execute_result"
    }
   ],
   "source": [
    "model"
   ]
  },
  {
   "cell_type": "code",
   "execution_count": 93,
   "metadata": {},
   "outputs": [
    {
     "data": {
      "text/plain": [
       "TfidfVectorizer(encoding='latin-1', ngram_range=(1, 2),\n",
       "                stop_words=['de', 'a', 'o', 'que', 'e', 'é', 'do', 'da', 'em',\n",
       "                            'um', 'para', 'com', 'não', 'uma', 'os', 'no', 'se',\n",
       "                            'na', 'por', 'mais', 'as', 'dos', 'como', 'mas',\n",
       "                            'ao', 'ele', 'das', 'à', 'seu', 'sua', ...],\n",
       "                sublinear_tf=True,\n",
       "                tokenizer=<bound method TweetTokenizer.tokenize of <nltk.tokenize.casual.TweetTokenizer object at 0x7f7d2d04b9b0>>)"
      ]
     },
     "execution_count": 93,
     "metadata": {},
     "output_type": "execute_result"
    }
   ],
   "source": [
    "vec"
   ]
  },
  {
   "cell_type": "code",
   "execution_count": 94,
   "metadata": {},
   "outputs": [
    {
     "data": {
      "text/plain": [
       "SelectKBest(k=9000, score_func=<function chi2 at 0x7f7d2de161e0>)"
      ]
     },
     "execution_count": 94,
     "metadata": {},
     "output_type": "execute_result"
    }
   ],
   "source": [
    "ch2"
   ]
  },
  {
   "cell_type": "code",
   "execution_count": 95,
   "metadata": {},
   "outputs": [
    {
     "data": {
      "text/plain": [
       "SMOTE(random_state=1612)"
      ]
     },
     "execution_count": 95,
     "metadata": {},
     "output_type": "execute_result"
    }
   ],
   "source": [
    "sample"
   ]
  },
  {
   "cell_type": "code",
   "execution_count": 125,
   "metadata": {},
   "outputs": [
    {
     "data": {
      "text/plain": [
       "(5765, 2)"
      ]
     },
     "execution_count": 125,
     "metadata": {},
     "output_type": "execute_result"
    }
   ],
   "source": [
    "drw = pd.read_csv(pth + drw_nm, sep=',')\n",
    "drw = drw[['Text','Classificacao']]\n",
    "dcl = drw.rename(columns={'Text': x_nm , 'Classificacao': y_nm})\n",
    "dcl = dcl[pd.notnull(dcl[x_nm])]\n",
    "dcl.drop_duplicates([x_nm], inplace=True)\n",
    "dcl[x_nm] = dcl[x_nm].apply(clear_twitter_text)\n",
    "dcl.shape"
   ]
  },
  {
   "cell_type": "code",
   "execution_count": 126,
   "metadata": {},
   "outputs": [],
   "source": [
    "features_vec = vec.transform(dcl[x_nm])"
   ]
  },
  {
   "cell_type": "code",
   "execution_count": 127,
   "metadata": {},
   "outputs": [
    {
     "data": {
      "text/plain": [
       "(5765, 9000)"
      ]
     },
     "execution_count": 127,
     "metadata": {},
     "output_type": "execute_result"
    }
   ],
   "source": [
    "features_ch2_vec = ch2.transform(features_vec)\n",
    "features_ch2_vec.shape"
   ]
  },
  {
   "cell_type": "code",
   "execution_count": 128,
   "metadata": {},
   "outputs": [],
   "source": [
    "X = features_ch2_vec\n",
    "yp = model.predict(X)\n",
    "dcl['classe_yp'] = yp"
   ]
  },
  {
   "cell_type": "code",
   "execution_count": 144,
   "metadata": {},
   "outputs": [
    {
     "data": {
      "image/png": "[encoded data removed]",
      "text/plain": [
       "<Figure size 504x360 with 2 Axes>"
      ]
     },
     "metadata": {
      "needs_background": "light"
     },
     "output_type": "display_data"
    }
   ],
   "source": [
    "yp = model.predict(X)\n",
    "cm = confusion_matrix(dcl[y_nm], yp)\n",
    "np.set_printoptions(precision=2)\n",
    "plt.figure(figsize=(7,5))\n",
    "plot_confusion_matrix(cm, classes)"
   ]
  },
  {
   "cell_type": "code",
   "execution_count": 146,
   "metadata": {},
   "outputs": [
    {
     "name": "stdout",
     "output_type": "stream",
     "text": [
      "              precision    recall  f1-score   support\n",
      "\n",
      "    Positivo       1.00      0.99      0.99      2840\n",
      "    Negativo       0.99      0.97      0.98       951\n",
      "      Neutro       0.97      0.99      0.98      1974\n",
      "\n",
      "    accuracy                           0.99      5765\n",
      "   macro avg       0.98      0.98      0.98      5765\n",
      "weighted avg       0.99      0.99      0.99      5765\n",
      "\n"
     ]
    }
   ],
   "source": [
    "print (classification_report(dcl[y_nm],yp,classes))"
   ]
  },
  {
   "cell_type": "code",
   "execution_count": 130,
   "metadata": {},
   "outputs": [
    {
     "data": {
      "text/plain": [
       "array(['Positivo', 'Neutro'], dtype=object)"
      ]
     },
     "execution_count": 130,
     "metadata": {},
     "output_type": "execute_result"
    }
   ],
   "source": [
    "tweets = ['Apos a ida do homem a lua, a ciencia evoluiu a passos largos','O Bozo feliz']\n",
    "features_vec = vec.transform(tweets)\n",
    "features_ch2_vec = ch2.transform(features_vec)\n",
    "yp = model.predict(features_ch2_vec)\n",
    "yp"
   ]
  },
  {
   "cell_type": "code",
   "execution_count": 151,
   "metadata": {},
   "outputs": [
    {
     "name": "stdout",
     "output_type": "stream",
     "text": [
      "Apos a ida do homem a lua, a ciencia evoluiu a passos largos politica, Positivo\n",
      "A mulher gritou, Neutro\n",
      "o Garoto ficou cansado esse ano, Neutro\n"
     ]
    }
   ],
   "source": [
    "tweets = ['Apos a ida do homem a lua, a ciencia evoluiu a passos largos politica','A mulher gritou',\n",
    "'o Garoto ficou cansado esse ano']\n",
    "      \n",
    "features_vec = vec.transform(tweets)\n",
    "features_ch2_vec = ch2.transform(features_vec)\n",
    "yp = model_win.predict(features_ch2_vec)\n",
    "yp\n",
    "\n",
    "for t, c in zip (tweets,model.predict(features_ch2_vec)):\n",
    "    # t representa o tweet e c a classificação de cada tweet.\n",
    "    print (t +\", \"+ c)"
   ]
  },
  {
   "cell_type": "code",
   "execution_count": null,
   "metadata": {},
   "outputs": [],
   "source": []
  }
 ],
 "metadata": {
  "kernelspec": {
   "display_name": "Python 3",
   "language": "python",
   "name": "python3"
  },
  "language_info": {
   "codemirror_mode": {
    "name": "ipython",
    "version": 3
   },
   "file_extension": ".py",
   "mimetype": "text/x-python",
   "name": "python",
   "nbconvert_exporter": "python",
   "pygments_lexer": "ipython3",
   "version": "3.7.3"
  }
 },
 "nbformat": 4,
 "nbformat_minor": 4
}
